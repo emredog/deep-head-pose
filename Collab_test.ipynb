{
  "nbformat": 4,
  "nbformat_minor": 0,
  "metadata": {
    "kernelspec": {
      "name": "python3",
      "display_name": "Python 3"
    },
    "language_info": {
      "codemirror_mode": {
        "name": "ipython",
        "version": 3
      },
      "file_extension": ".py",
      "mimetype": "text/x-python",
      "name": "python",
      "nbconvert_exporter": "python",
      "pygments_lexer": "ipython3",
      "version": "3.6.4"
    },
    "colab": {
      "name": "Collab_test.ipynb",
      "version": "0.3.2",
      "provenance": [],
      "include_colab_link": true
    },
    "accelerator": "GPU"
  },
  "cells": [
    {
      "cell_type": "markdown",
      "metadata": {
        "id": "view-in-github",
        "colab_type": "text"
      },
      "source": [
        "<a href=\"https://colab.research.google.com/github/emredog/deep-head-pose/blob/master/Collab_test.ipynb\" target=\"_parent\"><img src=\"https://colab.research.google.com/assets/colab-badge.svg\" alt=\"Open In Colab\"/></a>"
      ]
    },
    {
      "cell_type": "markdown",
      "metadata": {
        "id": "cHCb55xeVY1T",
        "colab_type": "text"
      },
      "source": [
        "Mount Google Drive folder as the workspace"
      ]
    },
    {
      "cell_type": "code",
      "metadata": {
        "id": "5ET06QtscMHL",
        "colab_type": "code",
        "colab": {
          "base_uri": "https://localhost:8080/",
          "height": 306
        },
        "outputId": "cd92560b-acf6-4311-f68c-78ac0c5220cd"
      },
      "source": [
        "import os, time\n",
        "\n",
        "colab_data_dir = \"/content/data/\"\n",
        "\n",
        "if not os.path.exists(colab_data_dir):\n",
        "  %mkdir /content/data\n",
        "  print(\"Data folder created.\")\n",
        "\n",
        "if not os.path.exists(\"/gdrive\"):\n",
        "  print(\"Mounting google drive\")\n",
        "  from google.colab import drive\n",
        "  drive.mount('/gdrive')\n",
        "print(\"Google drive is mounted at /gdrive\")\n",
        "  \n",
        "start_time = time.time()\n",
        "if not os.path.exists(\"/content/data/300W-LP\"):  \n",
        "  print(\"Copying 300W-LP.zip...\")\n",
        "  %cp /gdrive/My\\ Drive/colab_workspace/advertima/data/300W-LP.zip /content/data\n",
        "  print(\"Copied to /content/data\\nExtracting...\")\n",
        "  !unzip -qq /content/data/300W-LP.zip -d /content/data/  \n",
        "  %rm /content/data/300W-LP.zip\n",
        "elapsed_time = time.time() - start_time\n",
        "print(\"/content/data/300W-LP is ready ({:.1f} sec)\".format(elapsed_time))\n",
        "  \n",
        "start_time = time.time()\n",
        "if not os.path.exists(\"/content/data/AFLW2000-3D\"):\n",
        "  print(\"Copying AFLW2000-3D.zip...\")\n",
        "  %cp /gdrive/My\\ Drive/colab_workspace/advertima/data/AFLW2000-3D.zip /content/data\n",
        "  print(\"Copied to /content/data\\nExtracting...\")\n",
        "  !unzip -qq /content/data/AFLW2000-3D.zip -d /content/data/\n",
        "  %rm /content/data/AFLW2000-3D.zip\n",
        "elapsed_time = time.time() - start_time\n",
        "print(\"/content/data/AFLW2000-3D is ready ({:.1f} sec)\".format(elapsed_time))\n",
        "  \n"
      ],
      "execution_count": 29,
      "outputs": [
        {
          "output_type": "stream",
          "text": [
            "Google drive is mounted at /gdrive\n",
            "Copying 300W-LP.zip...\n",
            "^C\n",
            "Copied to /content/data\n",
            "Extracting...\n",
            "[/content/data/300W-LP.zip]\n",
            "  End-of-central-directory signature not found.  Either this file is not\n",
            "  a zipfile, or it constitutes one disk of a multi-part archive.  In the\n",
            "  latter case the central directory and zipfile comment will be found on\n",
            "  the last disk(s) of this archive.\n",
            "unzip:  cannot find zipfile directory in one of /content/data/300W-LP.zip or\n",
            "        /content/data/300W-LP.zip.zip, and cannot find /content/data/300W-LP.zip.ZIP, period.\n",
            "/content/data/300W-LP is ready (15.1 sec)\n",
            "Copying AFLW2000-3D.zip...\n",
            "Copied to /content/data\n",
            "Extracting...\n",
            "/content/data/AFLW2000-3D is ready (5.7 sec)\n"
          ],
          "name": "stdout"
        }
      ]
    },
    {
      "cell_type": "code",
      "metadata": {
        "id": "ZitlAy49Ve-o",
        "colab_type": "code",
        "colab": {
          "base_uri": "https://localhost:8080/",
          "height": 34
        },
        "outputId": "e1bca4d3-a43f-4ab2-bf54-1373df560037"
      },
      "source": [
        "print(\"{:.1f}\".format(elapsed_time))\n",
        "\n",
        "\n",
        "#%cp /gdrive/My\\ Drive/colab_workspace/advertima/data/300W-LP.zip /content/data\n",
        "#!unzip -qq /content/data/300W-LP.zip -d /content/data/\n",
        "#cp /gdrive/My\\ Drive/colab_workspace/advertima/300W-LP.zip /content/data\n"
      ],
      "execution_count": 28,
      "outputs": [
        {
          "output_type": "stream",
          "text": [
            "97.0\n"
          ],
          "name": "stdout"
        }
      ]
    },
    {
      "cell_type": "code",
      "metadata": {
        "id": "744qd3tFWbVp",
        "colab_type": "code",
        "colab": {
          "base_uri": "https://localhost:8080/",
          "height": 85
        },
        "outputId": "9dbe5f85-4d89-446c-d776-fbeef8cf330e"
      },
      "source": [
        "print(os.path.isdir(\"/content/data/\"))\n",
        "!ls -l /content/data/"
      ],
      "execution_count": 48,
      "outputs": [
        {
          "output_type": "stream",
          "text": [
            "True\n",
            "total 144\n",
            "drwxr-xr-x 12 root root   4096 Nov 25  2015 300W_LP\n",
            "drwxr-xr-x  3 root root 143360 Mar 29  2016 AFLW2000\n"
          ],
          "name": "stdout"
        }
      ]
    },
    {
      "cell_type": "code",
      "metadata": {
        "id": "ZkwS87mtauDH",
        "colab_type": "code",
        "colab": {
          "base_uri": "https://localhost:8080/",
          "height": 1000
        },
        "outputId": "4019d5a6-bcb3-41a5-e929-b828f56b79d9"
      },
      "source": [
        "!ls /content/data/AFLW2000/"
      ],
      "execution_count": 50,
      "outputs": [
        {
          "output_type": "stream",
          "text": [
            "Code\t\timage00665.jpg\timage01466.mat\timage02426.jpg\timage03545.mat\n",
            "image00002.jpg\timage00665.mat\timage01467.jpg\timage02426.mat\timage03548.jpg\n",
            "image00002.mat\timage00667.jpg\timage01467.mat\timage02428.jpg\timage03548.mat\n",
            "image00004.jpg\timage00667.mat\timage01468.jpg\timage02428.mat\timage03549.jpg\n",
            "image00004.mat\timage00670.jpg\timage01468.mat\timage02432.jpg\timage03549.mat\n",
            "image00006.jpg\timage00670.mat\timage01469.jpg\timage02432.mat\timage03550.jpg\n",
            "image00006.mat\timage00673.jpg\timage01469.mat\timage02434.jpg\timage03550.mat\n",
            "image00008.jpg\timage00673.mat\timage01470.jpg\timage02434.mat\timage03551.jpg\n",
            "image00008.mat\timage00678.jpg\timage01470.mat\timage02440.jpg\timage03551.mat\n",
            "image00010.jpg\timage00678.mat\timage01471.jpg\timage02440.mat\timage03552.jpg\n",
            "image00010.mat\timage00679.jpg\timage01471.mat\timage02448.jpg\timage03552.mat\n",
            "image00013.jpg\timage00679.mat\timage01472.jpg\timage02448.mat\timage03555.jpg\n",
            "image00013.mat\timage00680.jpg\timage01472.mat\timage02449.jpg\timage03555.mat\n",
            "image00014.jpg\timage00680.mat\timage01474.jpg\timage02449.mat\timage03557.jpg\n",
            "image00014.mat\timage00681.jpg\timage01474.mat\timage02450.jpg\timage03557.mat\n",
            "image00019.jpg\timage00681.mat\timage01475.jpg\timage02450.mat\timage03558.jpg\n",
            "image00019.mat\timage00682.jpg\timage01475.mat\timage02453.jpg\timage03558.mat\n",
            "image00020.jpg\timage00682.mat\timage01476.jpg\timage02453.mat\timage03559.jpg\n",
            "image00020.mat\timage00683.jpg\timage01476.mat\timage02455.jpg\timage03559.mat\n",
            "image00021.jpg\timage00683.mat\timage01477.jpg\timage02455.mat\timage03560.jpg\n",
            "image00021.mat\timage00684.jpg\timage01477.mat\timage02456.jpg\timage03560.mat\n",
            "image00022.jpg\timage00684.mat\timage01479.jpg\timage02456.mat\timage03561.jpg\n",
            "image00022.mat\timage00685.jpg\timage01479.mat\timage02458.jpg\timage03561.mat\n",
            "image00023.jpg\timage00685.mat\timage01480.jpg\timage02458.mat\timage03562.jpg\n",
            "image00023.mat\timage00688.jpg\timage01480.mat\timage02464.jpg\timage03562.mat\n",
            "image00026.jpg\timage00688.mat\timage01483.jpg\timage02464.mat\timage03563.jpg\n",
            "image00026.mat\timage00689.jpg\timage01483.mat\timage02470.jpg\timage03563.mat\n",
            "image00028.jpg\timage00689.mat\timage01486.jpg\timage02470.mat\timage03566.jpg\n",
            "image00028.mat\timage00690.jpg\timage01486.mat\timage02474.jpg\timage03566.mat\n",
            "image00032.jpg\timage00690.mat\timage01488.jpg\timage02474.mat\timage03567.jpg\n",
            "image00032.mat\timage00691.jpg\timage01488.mat\timage02475.jpg\timage03567.mat\n",
            "image00035.jpg\timage00691.mat\timage01496.jpg\timage02475.mat\timage03568.jpg\n",
            "image00035.mat\timage00692.jpg\timage01496.mat\timage02479.jpg\timage03568.mat\n",
            "image00036.jpg\timage00692.mat\timage01503.jpg\timage02479.mat\timage03570.jpg\n",
            "image00036.mat\timage00693.jpg\timage01503.mat\timage02482.jpg\timage03570.mat\n",
            "image00039.jpg\timage00693.mat\timage01504.jpg\timage02482.mat\timage03571.jpg\n",
            "image00039.mat\timage00694.jpg\timage01504.mat\timage02485.jpg\timage03571.mat\n",
            "image00040.jpg\timage00694.mat\timage01505.jpg\timage02485.mat\timage03572.jpg\n",
            "image00040.mat\timage00695.jpg\timage01505.mat\timage02488.jpg\timage03572.mat\n",
            "image00041.jpg\timage00695.mat\timage01506.jpg\timage02488.mat\timage03573.jpg\n",
            "image00041.mat\timage00696.jpg\timage01506.mat\timage02490.jpg\timage03573.mat\n",
            "image00042.jpg\timage00696.mat\timage01507.jpg\timage02490.mat\timage03574.jpg\n",
            "image00042.mat\timage00697.jpg\timage01507.mat\timage02494.jpg\timage03574.mat\n",
            "image00043.jpg\timage00697.mat\timage01509.jpg\timage02494.mat\timage03575.jpg\n",
            "image00043.mat\timage00699.jpg\timage01509.mat\timage02513.jpg\timage03575.mat\n",
            "image00044.jpg\timage00699.mat\timage01513.jpg\timage02513.mat\timage03578.jpg\n",
            "image00044.mat\timage00700.jpg\timage01513.mat\timage02514.jpg\timage03578.mat\n",
            "image00045.jpg\timage00700.mat\timage01514.jpg\timage02514.mat\timage03580.jpg\n",
            "image00045.mat\timage00705.jpg\timage01514.mat\timage02517.jpg\timage03580.mat\n",
            "image00046.jpg\timage00705.mat\timage01530.jpg\timage02517.mat\timage03582.jpg\n",
            "image00046.mat\timage00710.jpg\timage01530.mat\timage02518.jpg\timage03582.mat\n",
            "image00047.jpg\timage00710.mat\timage01540.jpg\timage02518.mat\timage03585.jpg\n",
            "image00047.mat\timage00712.jpg\timage01540.mat\timage02520.jpg\timage03585.mat\n",
            "image00048.jpg\timage00712.mat\timage01547.jpg\timage02520.mat\timage03586.jpg\n",
            "image00048.mat\timage00713.jpg\timage01547.mat\timage02522.jpg\timage03586.mat\n",
            "image00049.jpg\timage00713.mat\timage01556.jpg\timage02522.mat\timage03588.jpg\n",
            "image00049.mat\timage00714.jpg\timage01556.mat\timage02529.jpg\timage03588.mat\n",
            "image00050.jpg\timage00714.mat\timage01562.jpg\timage02529.mat\timage03589.jpg\n",
            "image00050.mat\timage00715.jpg\timage01562.mat\timage02530.jpg\timage03589.mat\n",
            "image00051.jpg\timage00715.mat\timage01565.jpg\timage02530.mat\timage03590.jpg\n",
            "image00051.mat\timage00719.jpg\timage01565.mat\timage02531.jpg\timage03590.mat\n",
            "image00052.jpg\timage00719.mat\timage01569.jpg\timage02531.mat\timage03592.jpg\n",
            "image00052.mat\timage00722.jpg\timage01569.mat\timage02532.jpg\timage03592.mat\n",
            "image00053.jpg\timage00722.mat\timage01571.jpg\timage02532.mat\timage03597.jpg\n",
            "image00053.mat\timage00723.jpg\timage01571.mat\timage02533.jpg\timage03597.mat\n",
            "image00054.jpg\timage00723.mat\timage01572.jpg\timage02533.mat\timage03599.jpg\n",
            "image00054.mat\timage00724.jpg\timage01572.mat\timage02536.jpg\timage03599.mat\n",
            "image00055.jpg\timage00724.mat\timage01573.jpg\timage02536.mat\timage03609.jpg\n",
            "image00055.mat\timage00725.jpg\timage01573.mat\timage02539.jpg\timage03609.mat\n",
            "image00056.jpg\timage00725.mat\timage01574.jpg\timage02539.mat\timage03614.jpg\n",
            "image00056.mat\timage00726.jpg\timage01574.mat\timage02540.jpg\timage03614.mat\n",
            "image00057.jpg\timage00726.mat\timage01575.jpg\timage02540.mat\timage03615.jpg\n",
            "image00057.mat\timage00727.jpg\timage01575.mat\timage02544.jpg\timage03615.mat\n",
            "image00058.jpg\timage00727.mat\timage01576.jpg\timage02544.mat\timage03617.jpg\n",
            "image00058.mat\timage00728.jpg\timage01576.mat\timage02545.jpg\timage03617.mat\n",
            "image00059.jpg\timage00728.mat\timage01578.jpg\timage02545.mat\timage03624.jpg\n",
            "image00059.mat\timage00729.jpg\timage01578.mat\timage02547.jpg\timage03624.mat\n",
            "image00060.jpg\timage00729.mat\timage01586.jpg\timage02547.mat\timage03625.jpg\n",
            "image00060.mat\timage00730.jpg\timage01586.mat\timage02548.jpg\timage03625.mat\n",
            "image00061.jpg\timage00730.mat\timage01591.jpg\timage02548.mat\timage03626.jpg\n",
            "image00061.mat\timage00731.jpg\timage01591.mat\timage02550.jpg\timage03626.mat\n",
            "image00062.jpg\timage00731.mat\timage01593.jpg\timage02550.mat\timage03629.jpg\n",
            "image00062.mat\timage00733.jpg\timage01593.mat\timage02553.jpg\timage03629.mat\n",
            "image00063.jpg\timage00733.mat\timage01598.jpg\timage02553.mat\timage03631.jpg\n",
            "image00063.mat\timage00734.jpg\timage01598.mat\timage02556.jpg\timage03631.mat\n",
            "image00064.jpg\timage00734.mat\timage01602.jpg\timage02556.mat\timage03633.jpg\n",
            "image00064.mat\timage00735.jpg\timage01602.mat\timage02559.jpg\timage03633.mat\n",
            "image00065.jpg\timage00735.mat\timage01603.jpg\timage02559.mat\timage03636.jpg\n",
            "image00065.mat\timage00739.jpg\timage01603.mat\timage02562.jpg\timage03636.mat\n",
            "image00066.jpg\timage00739.mat\timage01604.jpg\timage02562.mat\timage03637.jpg\n",
            "image00066.mat\timage00740.jpg\timage01604.mat\timage02565.jpg\timage03637.mat\n",
            "image00067.jpg\timage00740.mat\timage01605.jpg\timage02565.mat\timage03638.jpg\n",
            "image00067.mat\timage00741.jpg\timage01605.mat\timage02567.jpg\timage03638.mat\n",
            "image00070.jpg\timage00741.mat\timage01606.jpg\timage02567.mat\timage03639.jpg\n",
            "image00070.mat\timage00743.jpg\timage01606.mat\timage02579.jpg\timage03639.mat\n",
            "image00072.jpg\timage00743.mat\timage01607.jpg\timage02579.mat\timage03640.jpg\n",
            "image00072.mat\timage00745.jpg\timage01607.mat\timage02581.jpg\timage03640.mat\n",
            "image00074.jpg\timage00745.mat\timage01621.jpg\timage02581.mat\timage03641.jpg\n",
            "image00074.mat\timage00747.jpg\timage01621.mat\timage02592.jpg\timage03641.mat\n",
            "image00075.jpg\timage00747.mat\timage01622.jpg\timage02592.mat\timage03644.jpg\n",
            "image00075.mat\timage00748.jpg\timage01622.mat\timage02595.jpg\timage03644.mat\n",
            "image00076.jpg\timage00748.mat\timage01623.jpg\timage02595.mat\timage03647.jpg\n",
            "image00076.mat\timage00753.jpg\timage01623.mat\timage02597.jpg\timage03647.mat\n",
            "image00077.jpg\timage00753.mat\timage01624.jpg\timage02597.mat\timage03651.jpg\n",
            "image00077.mat\timage00755.jpg\timage01624.mat\timage02598.jpg\timage03651.mat\n",
            "image00078.jpg\timage00755.mat\timage01629.jpg\timage02598.mat\timage03652.jpg\n",
            "image00078.mat\timage00757.jpg\timage01629.mat\timage02602.jpg\timage03652.mat\n",
            "image00079.jpg\timage00757.mat\timage01630.jpg\timage02602.mat\timage03653.jpg\n",
            "image00079.mat\timage00759.jpg\timage01630.mat\timage02603.jpg\timage03653.mat\n",
            "image00080.jpg\timage00759.mat\timage01631.jpg\timage02603.mat\timage03654.jpg\n",
            "image00080.mat\timage00761.jpg\timage01631.mat\timage02604.jpg\timage03654.mat\n",
            "image00081.jpg\timage00761.mat\timage01633.jpg\timage02604.mat\timage03655.jpg\n",
            "image00081.mat\timage00764.jpg\timage01633.mat\timage02605.jpg\timage03655.mat\n",
            "image00082.jpg\timage00764.mat\timage01634.jpg\timage02605.mat\timage03657.jpg\n",
            "image00082.mat\timage00771.jpg\timage01634.mat\timage02606.jpg\timage03657.mat\n",
            "image00083.jpg\timage00771.mat\timage01639.jpg\timage02606.mat\timage03661.jpg\n",
            "image00083.mat\timage00772.jpg\timage01639.mat\timage02608.jpg\timage03661.mat\n",
            "image00084.jpg\timage00772.mat\timage01641.jpg\timage02608.mat\timage03662.jpg\n",
            "image00084.mat\timage00773.jpg\timage01641.mat\timage02612.jpg\timage03662.mat\n",
            "image00087.jpg\timage00773.mat\timage01642.jpg\timage02612.mat\timage03663.jpg\n",
            "image00087.mat\timage00774.jpg\timage01642.mat\timage02614.jpg\timage03663.mat\n",
            "image00088.jpg\timage00774.mat\timage01643.jpg\timage02614.mat\timage03664.jpg\n",
            "image00088.mat\timage00775.jpg\timage01643.mat\timage02615.jpg\timage03664.mat\n",
            "image00090.jpg\timage00775.mat\timage01644.jpg\timage02615.mat\timage03665.jpg\n",
            "image00090.mat\timage00776.jpg\timage01644.mat\timage02616.jpg\timage03665.mat\n",
            "image00091.jpg\timage00776.mat\timage01645.jpg\timage02616.mat\timage03666.jpg\n",
            "image00091.mat\timage00777.jpg\timage01645.mat\timage02617.jpg\timage03666.mat\n",
            "image00092.jpg\timage00777.mat\timage01646.jpg\timage02617.mat\timage03668.jpg\n",
            "image00092.mat\timage00778.jpg\timage01646.mat\timage02618.jpg\timage03668.mat\n",
            "image00093.jpg\timage00778.mat\timage01647.jpg\timage02618.mat\timage03669.jpg\n",
            "image00093.mat\timage00779.jpg\timage01647.mat\timage02621.jpg\timage03669.mat\n",
            "image00095.jpg\timage00779.mat\timage01649.jpg\timage02621.mat\timage03670.jpg\n",
            "image00095.mat\timage00781.jpg\timage01649.mat\timage02622.jpg\timage03670.mat\n",
            "image00097.jpg\timage00781.mat\timage01652.jpg\timage02622.mat\timage03671.jpg\n",
            "image00097.mat\timage00782.jpg\timage01652.mat\timage02625.jpg\timage03671.mat\n",
            "image00098.jpg\timage00782.mat\timage01653.jpg\timage02625.mat\timage03672.jpg\n",
            "image00098.mat\timage00783.jpg\timage01653.mat\timage02629.jpg\timage03672.mat\n",
            "image00099.jpg\timage00783.mat\timage01655.jpg\timage02629.mat\timage03673.jpg\n",
            "image00099.mat\timage00784.jpg\timage01655.mat\timage02630.jpg\timage03673.mat\n",
            "image00100.jpg\timage00784.mat\timage01657.jpg\timage02630.mat\timage03674.jpg\n",
            "image00100.mat\timage00785.jpg\timage01657.mat\timage02631.jpg\timage03674.mat\n",
            "image00101.jpg\timage00785.mat\timage01659.jpg\timage02631.mat\timage03675.jpg\n",
            "image00101.mat\timage00787.jpg\timage01659.mat\timage02632.jpg\timage03675.mat\n",
            "image00102.jpg\timage00787.mat\timage01662.jpg\timage02632.mat\timage03676.jpg\n",
            "image00102.mat\timage00788.jpg\timage01662.mat\timage02633.jpg\timage03676.mat\n",
            "image00104.jpg\timage00788.mat\timage01670.jpg\timage02633.mat\timage03677.jpg\n",
            "image00104.mat\timage00791.jpg\timage01670.mat\timage02635.jpg\timage03677.mat\n",
            "image00107.jpg\timage00791.mat\timage01671.jpg\timage02635.mat\timage03686.jpg\n",
            "image00107.mat\timage00792.jpg\timage01671.mat\timage02636.jpg\timage03686.mat\n",
            "image00108.jpg\timage00792.mat\timage01675.jpg\timage02636.mat\timage03691.jpg\n",
            "image00108.mat\timage00793.jpg\timage01675.mat\timage02637.jpg\timage03691.mat\n",
            "image00109.jpg\timage00793.mat\timage01676.jpg\timage02637.mat\timage03692.jpg\n",
            "image00109.mat\timage00795.jpg\timage01676.mat\timage02639.jpg\timage03692.mat\n",
            "image00112.jpg\timage00795.mat\timage01677.jpg\timage02639.mat\timage03693.jpg\n",
            "image00112.mat\timage00796.jpg\timage01677.mat\timage02643.jpg\timage03693.mat\n",
            "image00114.jpg\timage00796.mat\timage01682.jpg\timage02643.mat\timage03700.jpg\n",
            "image00114.mat\timage00797.jpg\timage01682.mat\timage02645.jpg\timage03700.mat\n",
            "image00118.jpg\timage00797.mat\timage01686.jpg\timage02645.mat\timage03703.jpg\n",
            "image00118.mat\timage00801.jpg\timage01686.mat\timage02646.jpg\timage03703.mat\n",
            "image00120.jpg\timage00801.mat\timage01688.jpg\timage02646.mat\timage03704.jpg\n",
            "image00120.mat\timage00802.jpg\timage01688.mat\timage02647.jpg\timage03704.mat\n",
            "image00122.jpg\timage00802.mat\timage01690.jpg\timage02647.mat\timage03705.jpg\n",
            "image00122.mat\timage00803.jpg\timage01690.mat\timage02648.jpg\timage03705.mat\n",
            "image00124.jpg\timage00803.mat\timage01691.jpg\timage02648.mat\timage03707.jpg\n",
            "image00124.mat\timage00804.jpg\timage01691.mat\timage02650.jpg\timage03707.mat\n",
            "image00126.jpg\timage00804.mat\timage01693.jpg\timage02650.mat\timage03708.jpg\n",
            "image00126.mat\timage00806.jpg\timage01693.mat\timage02653.jpg\timage03708.mat\n",
            "image00127.jpg\timage00806.mat\timage01698.jpg\timage02653.mat\timage03709.jpg\n",
            "image00127.mat\timage00808.jpg\timage01698.mat\timage02659.jpg\timage03709.mat\n",
            "image00131.jpg\timage00808.mat\timage01699.jpg\timage02659.mat\timage03711.jpg\n",
            "image00131.mat\timage00809.jpg\timage01699.mat\timage02660.jpg\timage03711.mat\n",
            "image00133.jpg\timage00809.mat\timage01700.jpg\timage02660.mat\timage03712.jpg\n",
            "image00133.mat\timage00813.jpg\timage01700.mat\timage02663.jpg\timage03712.mat\n",
            "image00134.jpg\timage00813.mat\timage01708.jpg\timage02663.mat\timage03713.jpg\n",
            "image00134.mat\timage00814.jpg\timage01708.mat\timage02664.jpg\timage03713.mat\n",
            "image00135.jpg\timage00814.mat\timage01711.jpg\timage02664.mat\timage03714.jpg\n",
            "image00135.mat\timage00815.jpg\timage01711.mat\timage02666.jpg\timage03714.mat\n",
            "image00136.jpg\timage00815.mat\timage01716.jpg\timage02666.mat\timage03715.jpg\n",
            "image00136.mat\timage00818.jpg\timage01716.mat\timage02673.jpg\timage03715.mat\n",
            "image00137.jpg\timage00818.mat\timage01717.jpg\timage02673.mat\timage03716.jpg\n",
            "image00137.mat\timage00824.jpg\timage01717.mat\timage02674.jpg\timage03716.mat\n",
            "image00138.jpg\timage00824.mat\timage01720.jpg\timage02674.mat\timage03717.jpg\n",
            "image00138.mat\timage00825.jpg\timage01720.mat\timage02677.jpg\timage03717.mat\n",
            "image00139.jpg\timage00825.mat\timage01732.jpg\timage02677.mat\timage03718.jpg\n",
            "image00139.mat\timage00826.jpg\timage01732.mat\timage02679.jpg\timage03718.mat\n",
            "image00140.jpg\timage00826.mat\timage01733.jpg\timage02679.mat\timage03719.jpg\n",
            "image00140.mat\timage00829.jpg\timage01733.mat\timage02683.jpg\timage03719.mat\n",
            "image00143.jpg\timage00829.mat\timage01736.jpg\timage02683.mat\timage03720.jpg\n",
            "image00143.mat\timage00830.jpg\timage01736.mat\timage02686.jpg\timage03720.mat\n",
            "image00144.jpg\timage00830.mat\timage01738.jpg\timage02686.mat\timage03721.jpg\n",
            "image00144.mat\timage00831.jpg\timage01738.mat\timage02688.jpg\timage03721.mat\n",
            "image00148.jpg\timage00831.mat\timage01739.jpg\timage02688.mat\timage03722.jpg\n",
            "image00148.mat\timage00832.jpg\timage01739.mat\timage02689.jpg\timage03722.mat\n",
            "image00150.jpg\timage00832.mat\timage01744.jpg\timage02689.mat\timage03724.jpg\n",
            "image00150.mat\timage00836.jpg\timage01744.mat\timage02690.jpg\timage03724.mat\n",
            "image00151.jpg\timage00836.mat\timage01745.jpg\timage02690.mat\timage03726.jpg\n",
            "image00151.mat\timage00837.jpg\timage01745.mat\timage02691.jpg\timage03726.mat\n",
            "image00152.jpg\timage00837.mat\timage01748.jpg\timage02691.mat\timage03727.jpg\n",
            "image00152.mat\timage00838.jpg\timage01748.mat\timage02695.jpg\timage03727.mat\n",
            "image00158.jpg\timage00838.mat\timage01749.jpg\timage02695.mat\timage03728.jpg\n",
            "image00158.mat\timage00839.jpg\timage01749.mat\timage02696.jpg\timage03728.mat\n",
            "image00159.jpg\timage00839.mat\timage01751.jpg\timage02696.mat\timage03729.jpg\n",
            "image00159.mat\timage00840.jpg\timage01751.mat\timage02698.jpg\timage03729.mat\n",
            "image00160.jpg\timage00840.mat\timage01762.jpg\timage02698.mat\timage03730.jpg\n",
            "image00160.mat\timage00841.jpg\timage01762.mat\timage02704.jpg\timage03730.mat\n",
            "image00161.jpg\timage00841.mat\timage01763.jpg\timage02704.mat\timage03731.jpg\n",
            "image00161.mat\timage00842.jpg\timage01763.mat\timage02705.jpg\timage03731.mat\n",
            "image00164.jpg\timage00842.mat\timage01764.jpg\timage02705.mat\timage03732.jpg\n",
            "image00164.mat\timage00843.jpg\timage01764.mat\timage02709.jpg\timage03732.mat\n",
            "image00165.jpg\timage00843.mat\timage01765.jpg\timage02709.mat\timage03733.jpg\n",
            "image00165.mat\timage00844.jpg\timage01765.mat\timage02711.jpg\timage03733.mat\n",
            "image00167.jpg\timage00844.mat\timage01767.jpg\timage02711.mat\timage03736.jpg\n",
            "image00167.mat\timage00845.jpg\timage01767.mat\timage02712.jpg\timage03736.mat\n",
            "image00168.jpg\timage00845.mat\timage01769.jpg\timage02712.mat\timage03738.jpg\n",
            "image00168.mat\timage00846.jpg\timage01769.mat\timage02713.jpg\timage03738.mat\n",
            "image00170.jpg\timage00846.mat\timage01770.jpg\timage02713.mat\timage03739.jpg\n",
            "image00170.mat\timage00847.jpg\timage01770.mat\timage02720.jpg\timage03739.mat\n",
            "image00174.jpg\timage00847.mat\timage01773.jpg\timage02720.mat\timage03740.jpg\n",
            "image00174.mat\timage00849.jpg\timage01773.mat\timage02721.jpg\timage03740.mat\n",
            "image00175.jpg\timage00849.mat\timage01775.jpg\timage02721.mat\timage03742.jpg\n",
            "image00175.mat\timage00850.jpg\timage01775.mat\timage02724.jpg\timage03742.mat\n",
            "image00176.jpg\timage00850.mat\timage01780.jpg\timage02724.mat\timage03744.jpg\n",
            "image00176.mat\timage00851.jpg\timage01780.mat\timage02726.jpg\timage03744.mat\n",
            "image00179.jpg\timage00851.mat\timage01781.jpg\timage02726.mat\timage03745.jpg\n",
            "image00179.mat\timage00854.jpg\timage01781.mat\timage02727.jpg\timage03745.mat\n",
            "image00180.jpg\timage00854.mat\timage01782.jpg\timage02727.mat\timage03746.jpg\n",
            "image00180.mat\timage00855.jpg\timage01782.mat\timage02728.jpg\timage03746.mat\n",
            "image00181.jpg\timage00855.mat\timage01783.jpg\timage02728.mat\timage03747.jpg\n",
            "image00181.mat\timage00856.jpg\timage01783.mat\timage02732.jpg\timage03747.mat\n",
            "image00182.jpg\timage00856.mat\timage01784.jpg\timage02732.mat\timage03748.jpg\n",
            "image00182.mat\timage00860.jpg\timage01784.mat\timage02735.jpg\timage03748.mat\n",
            "image00183.jpg\timage00860.mat\timage01785.jpg\timage02735.mat\timage03749.jpg\n",
            "image00183.mat\timage00861.jpg\timage01785.mat\timage02738.jpg\timage03749.mat\n",
            "image00186.jpg\timage00861.mat\timage01786.jpg\timage02738.mat\timage03750.jpg\n",
            "image00186.mat\timage00862.jpg\timage01786.mat\timage02739.jpg\timage03750.mat\n",
            "image00187.jpg\timage00862.mat\timage01787.jpg\timage02739.mat\timage03751.jpg\n",
            "image00187.mat\timage00863.jpg\timage01787.mat\timage02740.jpg\timage03751.mat\n",
            "image00188.jpg\timage00863.mat\timage01790.jpg\timage02740.mat\timage03752.jpg\n",
            "image00188.mat\timage00866.jpg\timage01790.mat\timage02744.jpg\timage03752.mat\n",
            "image00190.jpg\timage00866.mat\timage01791.jpg\timage02744.mat\timage03753.jpg\n",
            "image00190.mat\timage00872.jpg\timage01791.mat\timage02745.jpg\timage03753.mat\n",
            "image00197.jpg\timage00872.mat\timage01795.jpg\timage02745.mat\timage03754.jpg\n",
            "image00197.mat\timage00874.jpg\timage01795.mat\timage02746.jpg\timage03754.mat\n",
            "image00198.jpg\timage00874.mat\timage01796.jpg\timage02746.mat\timage03755.jpg\n",
            "image00198.mat\timage00877.jpg\timage01796.mat\timage02747.jpg\timage03755.mat\n",
            "image00199.jpg\timage00877.mat\timage01797.jpg\timage02747.mat\timage03756.jpg\n",
            "image00199.mat\timage00882.jpg\timage01797.mat\timage02748.jpg\timage03756.mat\n",
            "image00202.jpg\timage00882.mat\timage01798.jpg\timage02748.mat\timage03757.jpg\n",
            "image00202.mat\timage00886.jpg\timage01798.mat\timage02749.jpg\timage03757.mat\n",
            "image00203.jpg\timage00886.mat\timage01802.jpg\timage02749.mat\timage03758.jpg\n",
            "image00203.mat\timage00888.jpg\timage01802.mat\timage02750.jpg\timage03758.mat\n",
            "image00204.jpg\timage00888.mat\timage01807.jpg\timage02750.mat\timage03761.jpg\n",
            "image00204.mat\timage00889.jpg\timage01807.mat\timage02752.jpg\timage03761.mat\n",
            "image00207.jpg\timage00889.mat\timage01808.jpg\timage02752.mat\timage03762.jpg\n",
            "image00207.mat\timage00891.jpg\timage01808.mat\timage02753.jpg\timage03762.mat\n",
            "image00208.jpg\timage00891.mat\timage01809.jpg\timage02753.mat\timage03764.jpg\n",
            "image00208.mat\timage00892.jpg\timage01809.mat\timage02758.jpg\timage03764.mat\n",
            "image00209.jpg\timage00892.mat\timage01810.jpg\timage02758.mat\timage03765.jpg\n",
            "image00209.mat\timage00893.jpg\timage01810.mat\timage02759.jpg\timage03765.mat\n",
            "image00210.jpg\timage00893.mat\timage01811.jpg\timage02759.mat\timage03766.jpg\n",
            "image00210.mat\timage00894.jpg\timage01811.mat\timage02760.jpg\timage03766.mat\n",
            "image00211.jpg\timage00894.mat\timage01812.jpg\timage02760.mat\timage03767.jpg\n",
            "image00211.mat\timage00895.jpg\timage01812.mat\timage02763.jpg\timage03767.mat\n",
            "image00213.jpg\timage00895.mat\timage01814.jpg\timage02763.mat\timage03768.jpg\n",
            "image00213.mat\timage00896.jpg\timage01814.mat\timage02764.jpg\timage03768.mat\n",
            "image00214.jpg\timage00896.mat\timage01818.jpg\timage02764.mat\timage03772.jpg\n",
            "image00214.mat\timage00898.jpg\timage01818.mat\timage02765.jpg\timage03772.mat\n",
            "image00215.jpg\timage00898.mat\timage01820.jpg\timage02765.mat\timage03773.jpg\n",
            "image00215.mat\timage00901.jpg\timage01820.mat\timage02768.jpg\timage03773.mat\n",
            "image00216.jpg\timage00901.mat\timage01822.jpg\timage02768.mat\timage03774.jpg\n",
            "image00216.mat\timage00902.jpg\timage01822.mat\timage02769.jpg\timage03774.mat\n",
            "image00217.jpg\timage00902.mat\timage01823.jpg\timage02769.mat\timage03775.jpg\n",
            "image00217.mat\timage00903.jpg\timage01823.mat\timage02771.jpg\timage03775.mat\n",
            "image00218.jpg\timage00903.mat\timage01824.jpg\timage02771.mat\timage03776.jpg\n",
            "image00218.mat\timage00904.jpg\timage01824.mat\timage02773.jpg\timage03776.mat\n",
            "image00219.jpg\timage00904.mat\timage01826.jpg\timage02773.mat\timage03777.jpg\n",
            "image00219.mat\timage00905.jpg\timage01826.mat\timage02775.jpg\timage03777.mat\n",
            "image00222.jpg\timage00905.mat\timage01828.jpg\timage02775.mat\timage03778.jpg\n",
            "image00222.mat\timage00907.jpg\timage01828.mat\timage02781.jpg\timage03778.mat\n",
            "image00224.jpg\timage00907.mat\timage01829.jpg\timage02781.mat\timage03779.jpg\n",
            "image00224.mat\timage00908.jpg\timage01829.mat\timage02782.jpg\timage03779.mat\n",
            "image00227.jpg\timage00908.mat\timage01830.jpg\timage02782.mat\timage03780.jpg\n",
            "image00227.mat\timage00909.jpg\timage01830.mat\timage02788.jpg\timage03780.mat\n",
            "image00228.jpg\timage00909.mat\timage01831.jpg\timage02788.mat\timage03781.jpg\n",
            "image00228.mat\timage00911.jpg\timage01831.mat\timage02789.jpg\timage03781.mat\n",
            "image00229.jpg\timage00911.mat\timage01834.jpg\timage02789.mat\timage03782.jpg\n",
            "image00229.mat\timage00915.jpg\timage01834.mat\timage02790.jpg\timage03782.mat\n",
            "image00231.jpg\timage00915.mat\timage01839.jpg\timage02790.mat\timage03783.jpg\n",
            "image00231.mat\timage00918.jpg\timage01839.mat\timage02792.jpg\timage03783.mat\n",
            "image00233.jpg\timage00918.mat\timage01841.jpg\timage02792.mat\timage03784.jpg\n",
            "image00233.mat\timage00922.jpg\timage01841.mat\timage02795.jpg\timage03784.mat\n",
            "image00234.jpg\timage00922.mat\timage01842.jpg\timage02795.mat\timage03785.jpg\n",
            "image00234.mat\timage00923.jpg\timage01842.mat\timage02796.jpg\timage03785.mat\n",
            "image00235.jpg\timage00923.mat\timage01845.jpg\timage02796.mat\timage03786.jpg\n",
            "image00235.mat\timage00925.jpg\timage01845.mat\timage02797.jpg\timage03786.mat\n",
            "image00237.jpg\timage00925.mat\timage01846.jpg\timage02797.mat\timage03787.jpg\n",
            "image00237.mat\timage00929.jpg\timage01846.mat\timage02798.jpg\timage03787.mat\n",
            "image00239.jpg\timage00929.mat\timage01847.jpg\timage02798.mat\timage03788.jpg\n",
            "image00239.mat\timage00930.jpg\timage01847.mat\timage02801.jpg\timage03788.mat\n",
            "image00246.jpg\timage00930.mat\timage01850.jpg\timage02801.mat\timage03790.jpg\n",
            "image00246.mat\timage00931.jpg\timage01850.mat\timage02803.jpg\timage03790.mat\n",
            "image00251.jpg\timage00931.mat\timage01851.jpg\timage02803.mat\timage03791.jpg\n",
            "image00251.mat\timage00932.jpg\timage01851.mat\timage02804.jpg\timage03791.mat\n",
            "image00254.jpg\timage00932.mat\timage01852.jpg\timage02804.mat\timage03792.jpg\n",
            "image00254.mat\timage00933.jpg\timage01852.mat\timage02810.jpg\timage03792.mat\n",
            "image00255.jpg\timage00933.mat\timage01853.jpg\timage02810.mat\timage03793.jpg\n",
            "image00255.mat\timage00934.jpg\timage01853.mat\timage02811.jpg\timage03793.mat\n",
            "image00256.jpg\timage00934.mat\timage01854.jpg\timage02811.mat\timage03794.jpg\n",
            "image00256.mat\timage00935.jpg\timage01854.mat\timage02812.jpg\timage03794.mat\n",
            "image00259.jpg\timage00935.mat\timage01857.jpg\timage02812.mat\timage03796.jpg\n",
            "image00259.mat\timage00937.jpg\timage01857.mat\timage02817.jpg\timage03796.mat\n",
            "image00260.jpg\timage00937.mat\timage01860.jpg\timage02817.mat\timage03797.jpg\n",
            "image00260.mat\timage00939.jpg\timage01860.mat\timage02818.jpg\timage03797.mat\n",
            "image00261.jpg\timage00939.mat\timage01867.jpg\timage02818.mat\timage03798.jpg\n",
            "image00261.mat\timage00940.jpg\timage01867.mat\timage02819.jpg\timage03798.mat\n",
            "image00262.jpg\timage00940.mat\timage01868.jpg\timage02819.mat\timage03799.jpg\n",
            "image00262.mat\timage00941.jpg\timage01868.mat\timage02820.jpg\timage03799.mat\n",
            "image00263.jpg\timage00941.mat\timage01869.jpg\timage02820.mat\timage03800.jpg\n",
            "image00263.mat\timage00942.jpg\timage01869.mat\timage02824.jpg\timage03800.mat\n",
            "image00264.jpg\timage00942.mat\timage01870.jpg\timage02824.mat\timage03802.jpg\n",
            "image00264.mat\timage00943.jpg\timage01870.mat\timage02825.jpg\timage03802.mat\n",
            "image00268.jpg\timage00943.mat\timage01873.jpg\timage02825.mat\timage03804.jpg\n",
            "image00268.mat\timage00946.jpg\timage01873.mat\timage02826.jpg\timage03804.mat\n",
            "image00269.jpg\timage00946.mat\timage01874.jpg\timage02826.mat\timage03805.jpg\n",
            "image00269.mat\timage00947.jpg\timage01874.mat\timage02829.jpg\timage03805.mat\n",
            "image00270.jpg\timage00947.mat\timage01878.jpg\timage02829.mat\timage03806.jpg\n",
            "image00270.mat\timage00948.jpg\timage01878.mat\timage02831.jpg\timage03806.mat\n",
            "image00271.jpg\timage00948.mat\timage01879.jpg\timage02831.mat\timage03807.jpg\n",
            "image00271.mat\timage00950.jpg\timage01879.mat\timage02832.jpg\timage03807.mat\n",
            "image00274.jpg\timage00950.mat\timage01885.jpg\timage02832.mat\timage03808.jpg\n",
            "image00274.mat\timage00954.jpg\timage01885.mat\timage02834.jpg\timage03808.mat\n",
            "image00276.jpg\timage00954.mat\timage01887.jpg\timage02834.mat\timage03809.jpg\n",
            "image00276.mat\timage00957.jpg\timage01887.mat\timage02836.jpg\timage03809.mat\n",
            "image00278.jpg\timage00957.mat\timage01892.jpg\timage02836.mat\timage03810.jpg\n",
            "image00278.mat\timage00960.jpg\timage01892.mat\timage02839.jpg\timage03810.mat\n",
            "image00279.jpg\timage00960.mat\timage01894.jpg\timage02839.mat\timage03811.jpg\n",
            "image00279.mat\timage00961.jpg\timage01894.mat\timage02840.jpg\timage03811.mat\n",
            "image00280.jpg\timage00961.mat\timage01896.jpg\timage02840.mat\timage03812.jpg\n",
            "image00280.mat\timage00962.jpg\timage01896.mat\timage02841.jpg\timage03812.mat\n",
            "image00282.jpg\timage00962.mat\timage01900.jpg\timage02841.mat\timage03813.jpg\n",
            "image00282.mat\timage00963.jpg\timage01900.mat\timage02843.jpg\timage03813.mat\n",
            "image00283.jpg\timage00963.mat\timage01901.jpg\timage02843.mat\timage03814.jpg\n",
            "image00283.mat\timage00965.jpg\timage01901.mat\timage02845.jpg\timage03814.mat\n",
            "image00287.jpg\timage00965.mat\timage01902.jpg\timage02845.mat\timage03816.jpg\n",
            "image00287.mat\timage00966.jpg\timage01902.mat\timage02846.jpg\timage03816.mat\n",
            "image00288.jpg\timage00966.mat\timage01916.jpg\timage02846.mat\timage03817.jpg\n",
            "image00288.mat\timage00967.jpg\timage01916.mat\timage02847.jpg\timage03817.mat\n",
            "image00289.jpg\timage00967.mat\timage01918.jpg\timage02847.mat\timage03818.jpg\n",
            "image00289.mat\timage00968.jpg\timage01918.mat\timage02849.jpg\timage03818.mat\n",
            "image00290.jpg\timage00968.mat\timage01919.jpg\timage02849.mat\timage03821.jpg\n",
            "image00290.mat\timage00971.jpg\timage01919.mat\timage02850.jpg\timage03821.mat\n",
            "image00291.jpg\timage00971.mat\timage01920.jpg\timage02850.mat\timage03822.jpg\n",
            "image00291.mat\timage00972.jpg\timage01920.mat\timage02851.jpg\timage03822.mat\n",
            "image00292.jpg\timage00972.mat\timage01921.jpg\timage02851.mat\timage03823.jpg\n",
            "image00292.mat\timage00973.jpg\timage01921.mat\timage02854.jpg\timage03823.mat\n",
            "image00294.jpg\timage00973.mat\timage01922.jpg\timage02854.mat\timage03824.jpg\n",
            "image00294.mat\timage00974.jpg\timage01922.mat\timage02856.jpg\timage03824.mat\n",
            "image00296.jpg\timage00974.mat\timage01925.jpg\timage02856.mat\timage03826.jpg\n",
            "image00296.mat\timage00976.jpg\timage01925.mat\timage02857.jpg\timage03826.mat\n",
            "image00298.jpg\timage00976.mat\timage01927.jpg\timage02857.mat\timage03827.jpg\n",
            "image00298.mat\timage00978.jpg\timage01927.mat\timage02864.jpg\timage03827.mat\n",
            "image00299.jpg\timage00978.mat\timage01928.jpg\timage02864.mat\timage03828.jpg\n",
            "image00299.mat\timage00979.jpg\timage01928.mat\timage02866.jpg\timage03828.mat\n",
            "image00302.jpg\timage00979.mat\timage01932.jpg\timage02866.mat\timage03829.jpg\n",
            "image00302.mat\timage00981.jpg\timage01932.mat\timage02867.jpg\timage03829.mat\n",
            "image00303.jpg\timage00981.mat\timage01933.jpg\timage02867.mat\timage03831.jpg\n",
            "image00303.mat\timage00982.jpg\timage01933.mat\timage02869.jpg\timage03831.mat\n",
            "image00304.jpg\timage00982.mat\timage01934.jpg\timage02869.mat\timage03832.jpg\n",
            "image00304.mat\timage00983.jpg\timage01934.mat\timage02870.jpg\timage03832.mat\n",
            "image00306.jpg\timage00983.mat\timage01936.jpg\timage02870.mat\timage03833.jpg\n",
            "image00306.mat\timage00984.jpg\timage01936.mat\timage02871.jpg\timage03833.mat\n",
            "image00310.jpg\timage00984.mat\timage01938.jpg\timage02871.mat\timage03834.jpg\n",
            "image00310.mat\timage00985.jpg\timage01938.mat\timage02881.jpg\timage03834.mat\n",
            "image00311.jpg\timage00985.mat\timage01940.jpg\timage02881.mat\timage03835.jpg\n",
            "image00311.mat\timage00988.jpg\timage01940.mat\timage02884.jpg\timage03835.mat\n",
            "image00312.jpg\timage00988.mat\timage01941.jpg\timage02884.mat\timage03836.jpg\n",
            "image00312.mat\timage00989.jpg\timage01941.mat\timage02886.jpg\timage03836.mat\n",
            "image00315.jpg\timage00989.mat\timage01943.jpg\timage02886.mat\timage03842.jpg\n",
            "image00315.mat\timage00995.jpg\timage01943.mat\timage02889.jpg\timage03842.mat\n",
            "image00316.jpg\timage00995.mat\timage01944.jpg\timage02889.mat\timage03850.jpg\n",
            "image00316.mat\timage00998.jpg\timage01944.mat\timage02891.jpg\timage03850.mat\n",
            "image00318.jpg\timage00998.mat\timage01945.jpg\timage02891.mat\timage03851.jpg\n",
            "image00318.mat\timage00999.jpg\timage01945.mat\timage02899.jpg\timage03851.mat\n",
            "image00320.jpg\timage00999.mat\timage01947.jpg\timage02899.mat\timage03852.jpg\n",
            "image00320.mat\timage01000.jpg\timage01947.mat\timage02902.jpg\timage03852.mat\n",
            "image00321.jpg\timage01000.mat\timage01950.jpg\timage02902.mat\timage03853.jpg\n",
            "image00321.mat\timage01001.jpg\timage01950.mat\timage02907.jpg\timage03853.mat\n",
            "image00322.jpg\timage01001.mat\timage01951.jpg\timage02907.mat\timage03854.jpg\n",
            "image00322.mat\timage01002.jpg\timage01951.mat\timage02918.jpg\timage03854.mat\n",
            "image00323.jpg\timage01002.mat\timage01952.jpg\timage02918.mat\timage03856.jpg\n",
            "image00323.mat\timage01003.jpg\timage01952.mat\timage02924.jpg\timage03856.mat\n",
            "image00324.jpg\timage01003.mat\timage01953.jpg\timage02924.mat\timage03860.jpg\n",
            "image00324.mat\timage01008.jpg\timage01953.mat\timage02929.jpg\timage03860.mat\n",
            "image00325.jpg\timage01008.mat\timage01956.jpg\timage02929.mat\timage03862.jpg\n",
            "image00325.mat\timage01009.jpg\timage01956.mat\timage02931.jpg\timage03862.mat\n",
            "image00327.jpg\timage01009.mat\timage01958.jpg\timage02931.mat\timage03866.jpg\n",
            "image00327.mat\timage01010.jpg\timage01958.mat\timage02936.jpg\timage03866.mat\n",
            "image00328.jpg\timage01010.mat\timage01971.jpg\timage02936.mat\timage03869.jpg\n",
            "image00328.mat\timage01012.jpg\timage01971.mat\timage02938.jpg\timage03869.mat\n",
            "image00329.jpg\timage01012.mat\timage01973.jpg\timage02938.mat\timage03870.jpg\n",
            "image00329.mat\timage01014.jpg\timage01973.mat\timage02941.jpg\timage03870.mat\n",
            "image00330.jpg\timage01014.mat\timage01974.jpg\timage02941.mat\timage03871.jpg\n",
            "image00330.mat\timage01016.jpg\timage01974.mat\timage02947.jpg\timage03871.mat\n",
            "image00331.jpg\timage01016.mat\timage01975.jpg\timage02947.mat\timage03872.jpg\n",
            "image00331.mat\timage01017.jpg\timage01975.mat\timage02950.jpg\timage03872.mat\n",
            "image00332.jpg\timage01017.mat\timage01980.jpg\timage02950.mat\timage03873.jpg\n",
            "image00332.mat\timage01021.jpg\timage01980.mat\timage02951.jpg\timage03873.mat\n",
            "image00333.jpg\timage01021.mat\timage01981.jpg\timage02951.mat\timage03874.jpg\n",
            "image00333.mat\timage01025.jpg\timage01981.mat\timage02952.jpg\timage03874.mat\n",
            "image00334.jpg\timage01025.mat\timage01982.jpg\timage02952.mat\timage03876.jpg\n",
            "image00334.mat\timage01026.jpg\timage01982.mat\timage02953.jpg\timage03876.mat\n",
            "image00336.jpg\timage01026.mat\timage01983.jpg\timage02953.mat\timage03883.jpg\n",
            "image00336.mat\timage01028.jpg\timage01983.mat\timage02954.jpg\timage03883.mat\n",
            "image00337.jpg\timage01028.mat\timage01984.jpg\timage02954.mat\timage03885.jpg\n",
            "image00337.mat\timage01031.jpg\timage01984.mat\timage02957.jpg\timage03885.mat\n",
            "image00338.jpg\timage01031.mat\timage01985.jpg\timage02957.mat\timage03886.jpg\n",
            "image00338.mat\timage01032.jpg\timage01985.mat\timage02958.jpg\timage03886.mat\n",
            "image00339.jpg\timage01032.mat\timage01986.jpg\timage02958.mat\timage03888.jpg\n",
            "image00339.mat\timage01033.jpg\timage01986.mat\timage02959.jpg\timage03888.mat\n",
            "image00343.jpg\timage01033.mat\timage01989.jpg\timage02959.mat\timage03890.jpg\n",
            "image00343.mat\timage01034.jpg\timage01989.mat\timage02960.jpg\timage03890.mat\n",
            "image00345.jpg\timage01034.mat\timage01991.jpg\timage02960.mat\timage03891.jpg\n",
            "image00345.mat\timage01038.jpg\timage01991.mat\timage02969.jpg\timage03891.mat\n",
            "image00347.jpg\timage01038.mat\timage01996.jpg\timage02969.mat\timage03892.jpg\n",
            "image00347.mat\timage01039.jpg\timage01996.mat\timage02971.jpg\timage03892.mat\n",
            "image00348.jpg\timage01039.mat\timage01997.jpg\timage02971.mat\timage03893.jpg\n",
            "image00348.mat\timage01040.jpg\timage01997.mat\timage02972.jpg\timage03893.mat\n",
            "image00349.jpg\timage01040.mat\timage02000.jpg\timage02972.mat\timage03894.jpg\n",
            "image00349.mat\timage01042.jpg\timage02000.mat\timage02977.jpg\timage03894.mat\n",
            "image00350.jpg\timage01042.mat\timage02011.jpg\timage02977.mat\timage03896.jpg\n",
            "image00350.mat\timage01045.jpg\timage02011.mat\timage02980.jpg\timage03896.mat\n",
            "image00351.jpg\timage01045.mat\timage02012.jpg\timage02980.mat\timage03897.jpg\n",
            "image00351.mat\timage01048.jpg\timage02012.mat\timage02982.jpg\timage03897.mat\n",
            "image00352.jpg\timage01048.mat\timage02013.jpg\timage02982.mat\timage03902.jpg\n",
            "image00352.mat\timage01050.jpg\timage02013.mat\timage02985.jpg\timage03902.mat\n",
            "image00354.jpg\timage01050.mat\timage02014.jpg\timage02985.mat\timage03906.jpg\n",
            "image00354.mat\timage01053.jpg\timage02014.mat\timage02988.jpg\timage03906.mat\n",
            "image00355.jpg\timage01053.mat\timage02015.jpg\timage02988.mat\timage03907.jpg\n",
            "image00355.mat\timage01054.jpg\timage02015.mat\timage02989.jpg\timage03907.mat\n",
            "image00357.jpg\timage01054.mat\timage02016.jpg\timage02989.mat\timage03908.jpg\n",
            "image00357.mat\timage01058.jpg\timage02016.mat\timage02990.jpg\timage03908.mat\n",
            "image00359.jpg\timage01058.mat\timage02017.jpg\timage02990.mat\timage03917.jpg\n",
            "image00359.mat\timage01059.jpg\timage02017.mat\timage02992.jpg\timage03917.mat\n",
            "image00360.jpg\timage01059.mat\timage02023.jpg\timage02992.mat\timage03920.jpg\n",
            "image00360.mat\timage01060.jpg\timage02023.mat\timage02995.jpg\timage03920.mat\n",
            "image00362.jpg\timage01060.mat\timage02024.jpg\timage02995.mat\timage03926.jpg\n",
            "image00362.mat\timage01061.jpg\timage02024.mat\timage02996.jpg\timage03926.mat\n",
            "image00363.jpg\timage01061.mat\timage02026.jpg\timage02996.mat\timage03928.jpg\n",
            "image00363.mat\timage01062.jpg\timage02026.mat\timage02998.jpg\timage03928.mat\n",
            "image00367.jpg\timage01062.mat\timage02027.jpg\timage02998.mat\timage03930.jpg\n",
            "image00367.mat\timage01063.jpg\timage02027.mat\timage03002.jpg\timage03930.mat\n",
            "image00368.jpg\timage01063.mat\timage02028.jpg\timage03002.mat\timage03932.jpg\n",
            "image00368.mat\timage01065.jpg\timage02028.mat\timage03004.jpg\timage03932.mat\n",
            "image00370.jpg\timage01065.mat\timage02029.jpg\timage03004.mat\timage03933.jpg\n",
            "image00370.mat\timage01066.jpg\timage02029.mat\timage03006.jpg\timage03933.mat\n",
            "image00371.jpg\timage01066.mat\timage02030.jpg\timage03006.mat\timage03934.jpg\n",
            "image00371.mat\timage01067.jpg\timage02030.mat\timage03008.jpg\timage03934.mat\n",
            "image00374.jpg\timage01067.mat\timage02031.jpg\timage03008.mat\timage03936.jpg\n",
            "image00374.mat\timage01070.jpg\timage02031.mat\timage03009.jpg\timage03936.mat\n",
            "image00375.jpg\timage01070.mat\timage02032.jpg\timage03009.mat\timage03937.jpg\n",
            "image00375.mat\timage01071.jpg\timage02032.mat\timage03010.jpg\timage03937.mat\n",
            "image00376.jpg\timage01071.mat\timage02034.jpg\timage03010.mat\timage03939.jpg\n",
            "image00376.mat\timage01072.jpg\timage02034.mat\timage03011.jpg\timage03939.mat\n",
            "image00377.jpg\timage01072.mat\timage02035.jpg\timage03011.mat\timage03941.jpg\n",
            "image00377.mat\timage01077.jpg\timage02035.mat\timage03012.jpg\timage03941.mat\n",
            "image00379.jpg\timage01077.mat\timage02036.jpg\timage03012.mat\timage03943.jpg\n",
            "image00379.mat\timage01079.jpg\timage02036.mat\timage03013.jpg\timage03943.mat\n",
            "image00385.jpg\timage01079.mat\timage02037.jpg\timage03013.mat\timage03946.jpg\n",
            "image00385.mat\timage01083.jpg\timage02037.mat\timage03014.jpg\timage03946.mat\n",
            "image00387.jpg\timage01083.mat\timage02038.jpg\timage03014.mat\timage03949.jpg\n",
            "image00387.mat\timage01084.jpg\timage02038.mat\timage03015.jpg\timage03949.mat\n",
            "image00389.jpg\timage01084.mat\timage02039.jpg\timage03015.mat\timage03951.jpg\n",
            "image00389.mat\timage01085.jpg\timage02039.mat\timage03016.jpg\timage03951.mat\n",
            "image00391.jpg\timage01085.mat\timage02043.jpg\timage03016.mat\timage03956.jpg\n",
            "image00391.mat\timage01086.jpg\timage02043.mat\timage03018.jpg\timage03956.mat\n",
            "image00392.jpg\timage01086.mat\timage02044.jpg\timage03018.mat\timage03957.jpg\n",
            "image00392.mat\timage01087.jpg\timage02044.mat\timage03019.jpg\timage03957.mat\n",
            "image00393.jpg\timage01087.mat\timage02045.jpg\timage03019.mat\timage03958.jpg\n",
            "image00393.mat\timage01088.jpg\timage02045.mat\timage03021.jpg\timage03958.mat\n",
            "image00395.jpg\timage01088.mat\timage02046.jpg\timage03021.mat\timage03959.jpg\n",
            "image00395.mat\timage01089.jpg\timage02046.mat\timage03022.jpg\timage03959.mat\n",
            "image00397.jpg\timage01089.mat\timage02049.jpg\timage03022.mat\timage03962.jpg\n",
            "image00397.mat\timage01090.jpg\timage02049.mat\timage03024.jpg\timage03962.mat\n",
            "image00399.jpg\timage01090.mat\timage02050.jpg\timage03024.mat\timage03963.jpg\n",
            "image00399.mat\timage01092.jpg\timage02050.mat\timage03026.jpg\timage03963.mat\n",
            "image00400.jpg\timage01092.mat\timage02051.jpg\timage03026.mat\timage03964.jpg\n",
            "image00400.mat\timage01093.jpg\timage02051.mat\timage03028.jpg\timage03964.mat\n",
            "image00401.jpg\timage01093.mat\timage02054.jpg\timage03028.mat\timage03965.jpg\n",
            "image00401.mat\timage01095.jpg\timage02054.mat\timage03037.jpg\timage03965.mat\n",
            "image00404.jpg\timage01095.mat\timage02057.jpg\timage03037.mat\timage03966.jpg\n",
            "image00404.mat\timage01097.jpg\timage02057.mat\timage03040.jpg\timage03966.mat\n",
            "image00405.jpg\timage01097.mat\timage02058.jpg\timage03040.mat\timage03967.jpg\n",
            "image00405.mat\timage01100.jpg\timage02058.mat\timage03043.jpg\timage03967.mat\n",
            "image00408.jpg\timage01100.mat\timage02059.jpg\timage03043.mat\timage03968.jpg\n",
            "image00408.mat\timage01104.jpg\timage02059.mat\timage03044.jpg\timage03968.mat\n",
            "image00410.jpg\timage01104.mat\timage02061.jpg\timage03044.mat\timage03971.jpg\n",
            "image00410.mat\timage01106.jpg\timage02061.mat\timage03045.jpg\timage03971.mat\n",
            "image00412.jpg\timage01106.mat\timage02062.jpg\timage03045.mat\timage03974.jpg\n",
            "image00412.mat\timage01108.jpg\timage02062.mat\timage03047.jpg\timage03974.mat\n",
            "image00416.jpg\timage01108.mat\timage02064.jpg\timage03047.mat\timage03976.jpg\n",
            "image00416.mat\timage01109.jpg\timage02064.mat\timage03048.jpg\timage03976.mat\n",
            "image00419.jpg\timage01109.mat\timage02068.jpg\timage03048.mat\timage03977.jpg\n",
            "image00419.mat\timage01110.jpg\timage02068.mat\timage03050.jpg\timage03977.mat\n",
            "image00420.jpg\timage01110.mat\timage02069.jpg\timage03050.mat\timage03980.jpg\n",
            "image00420.mat\timage01111.jpg\timage02069.mat\timage03053.jpg\timage03980.mat\n",
            "image00421.jpg\timage01111.mat\timage02071.jpg\timage03053.mat\timage03984.jpg\n",
            "image00421.mat\timage01112.jpg\timage02071.mat\timage03054.jpg\timage03984.mat\n",
            "image00424.jpg\timage01112.mat\timage02072.jpg\timage03054.mat\timage03985.jpg\n",
            "image00424.mat\timage01113.jpg\timage02072.mat\timage03055.jpg\timage03985.mat\n",
            "image00426.jpg\timage01113.mat\timage02073.jpg\timage03055.mat\timage03992.jpg\n",
            "image00426.mat\timage01117.jpg\timage02073.mat\timage03057.jpg\timage03992.mat\n",
            "image00427.jpg\timage01117.mat\timage02075.jpg\timage03057.mat\timage03996.jpg\n",
            "image00427.mat\timage01118.jpg\timage02075.mat\timage03059.jpg\timage03996.mat\n",
            "image00428.jpg\timage01118.mat\timage02076.jpg\timage03059.mat\timage03998.jpg\n",
            "image00428.mat\timage01119.jpg\timage02076.mat\timage03061.jpg\timage03998.mat\n",
            "image00429.jpg\timage01119.mat\timage02079.jpg\timage03061.mat\timage04000.jpg\n",
            "image00429.mat\timage01120.jpg\timage02079.mat\timage03071.jpg\timage04000.mat\n",
            "image00430.jpg\timage01120.mat\timage02080.jpg\timage03071.mat\timage04004.jpg\n",
            "image00430.mat\timage01124.jpg\timage02080.mat\timage03075.jpg\timage04004.mat\n",
            "image00431.jpg\timage01124.mat\timage02083.jpg\timage03075.mat\timage04007.jpg\n",
            "image00431.mat\timage01126.jpg\timage02083.mat\timage03077.jpg\timage04007.mat\n",
            "image00433.jpg\timage01126.mat\timage02085.jpg\timage03077.mat\timage04012.jpg\n",
            "image00433.mat\timage01128.jpg\timage02085.mat\timage03079.jpg\timage04012.mat\n",
            "image00434.jpg\timage01128.mat\timage02093.jpg\timage03079.mat\timage04016.jpg\n",
            "image00434.mat\timage01129.jpg\timage02093.mat\timage03081.jpg\timage04016.mat\n",
            "image00435.jpg\timage01129.mat\timage02094.jpg\timage03081.mat\timage04018.jpg\n",
            "image00435.mat\timage01131.jpg\timage02094.mat\timage03082.jpg\timage04018.mat\n",
            "image00436.jpg\timage01131.mat\timage02099.jpg\timage03082.mat\timage04019.jpg\n",
            "image00436.mat\timage01132.jpg\timage02099.mat\timage03086.jpg\timage04019.mat\n",
            "image00437.jpg\timage01132.mat\timage02100.jpg\timage03086.mat\timage04024.jpg\n",
            "image00437.mat\timage01133.jpg\timage02100.mat\timage03093.jpg\timage04024.mat\n",
            "image00439.jpg\timage01133.mat\timage02107.jpg\timage03093.mat\timage04027.jpg\n",
            "image00439.mat\timage01138.jpg\timage02107.mat\timage03101.jpg\timage04027.mat\n",
            "image00440.jpg\timage01138.mat\timage02108.jpg\timage03101.mat\timage04028.jpg\n",
            "image00440.mat\timage01139.jpg\timage02108.mat\timage03102.jpg\timage04028.mat\n",
            "image00441.jpg\timage01139.mat\timage02112.jpg\timage03102.mat\timage04031.jpg\n",
            "image00441.mat\timage01141.jpg\timage02112.mat\timage03103.jpg\timage04031.mat\n",
            "image00442.jpg\timage01141.mat\timage02114.jpg\timage03103.mat\timage04036.jpg\n",
            "image00442.mat\timage01146.jpg\timage02114.mat\timage03109.jpg\timage04036.mat\n",
            "image00444.jpg\timage01146.mat\timage02116.jpg\timage03109.mat\timage04040.jpg\n",
            "image00444.mat\timage01147.jpg\timage02116.mat\timage03111.jpg\timage04040.mat\n",
            "image00445.jpg\timage01147.mat\timage02117.jpg\timage03111.mat\timage04043.jpg\n",
            "image00445.mat\timage01149.jpg\timage02117.mat\timage03116.jpg\timage04043.mat\n",
            "image00447.jpg\timage01149.mat\timage02121.jpg\timage03116.mat\timage04059.jpg\n",
            "image00447.mat\timage01150.jpg\timage02121.mat\timage03117.jpg\timage04059.mat\n",
            "image00448.jpg\timage01150.mat\timage02122.jpg\timage03117.mat\timage04062.jpg\n",
            "image00448.mat\timage01152.jpg\timage02122.mat\timage03123.jpg\timage04062.mat\n",
            "image00449.jpg\timage01152.mat\timage02124.jpg\timage03123.mat\timage04075.jpg\n",
            "image00449.mat\timage01155.jpg\timage02124.mat\timage03124.jpg\timage04075.mat\n",
            "image00450.jpg\timage01155.mat\timage02125.jpg\timage03124.mat\timage04078.jpg\n",
            "image00450.mat\timage01157.jpg\timage02125.mat\timage03128.jpg\timage04078.mat\n",
            "image00451.jpg\timage01157.mat\timage02128.jpg\timage03128.mat\timage04084.jpg\n",
            "image00451.mat\timage01161.jpg\timage02128.mat\timage03129.jpg\timage04084.mat\n",
            "image00454.jpg\timage01161.mat\timage02133.jpg\timage03129.mat\timage04085.jpg\n",
            "image00454.mat\timage01163.jpg\timage02133.mat\timage03143.jpg\timage04085.mat\n",
            "image00457.jpg\timage01163.mat\timage02136.jpg\timage03143.mat\timage04087.jpg\n",
            "image00457.mat\timage01164.jpg\timage02136.mat\timage03148.jpg\timage04087.mat\n",
            "image00459.jpg\timage01164.mat\timage02137.jpg\timage03148.mat\timage04088.jpg\n",
            "image00459.mat\timage01165.jpg\timage02137.mat\timage03149.jpg\timage04088.mat\n",
            "image00460.jpg\timage01165.mat\timage02138.jpg\timage03149.mat\timage04091.jpg\n",
            "image00460.mat\timage01168.jpg\timage02138.mat\timage03150.jpg\timage04091.mat\n",
            "image00466.jpg\timage01168.mat\timage02139.jpg\timage03150.mat\timage04092.jpg\n",
            "image00466.mat\timage01171.jpg\timage02139.mat\timage03153.jpg\timage04092.mat\n",
            "image00468.jpg\timage01171.mat\timage02142.jpg\timage03153.mat\timage04096.jpg\n",
            "image00468.mat\timage01173.jpg\timage02142.mat\timage03161.jpg\timage04096.mat\n",
            "image00469.jpg\timage01173.mat\timage02145.jpg\timage03161.mat\timage04098.jpg\n",
            "image00469.mat\timage01174.jpg\timage02145.mat\timage03162.jpg\timage04098.mat\n",
            "image00470.jpg\timage01174.mat\timage02147.jpg\timage03162.mat\timage04102.jpg\n",
            "image00470.mat\timage01175.jpg\timage02147.mat\timage03163.jpg\timage04102.mat\n",
            "image00472.jpg\timage01175.mat\timage02152.jpg\timage03163.mat\timage04104.jpg\n",
            "image00472.mat\timage01177.jpg\timage02152.mat\timage03172.jpg\timage04104.mat\n",
            "image00473.jpg\timage01177.mat\timage02154.jpg\timage03172.mat\timage04105.jpg\n",
            "image00473.mat\timage01178.jpg\timage02154.mat\timage03173.jpg\timage04105.mat\n",
            "image00475.jpg\timage01178.mat\timage02156.jpg\timage03173.mat\timage04111.jpg\n",
            "image00475.mat\timage01181.jpg\timage02156.mat\timage03174.jpg\timage04111.mat\n",
            "image00476.jpg\timage01181.mat\timage02157.jpg\timage03174.mat\timage04112.jpg\n",
            "image00476.mat\timage01182.jpg\timage02157.mat\timage03178.jpg\timage04112.mat\n",
            "image00477.jpg\timage01182.mat\timage02165.jpg\timage03178.mat\timage04114.jpg\n",
            "image00477.mat\timage01184.jpg\timage02165.mat\timage03179.jpg\timage04114.mat\n",
            "image00480.jpg\timage01184.mat\timage02166.jpg\timage03179.mat\timage04120.jpg\n",
            "image00480.mat\timage01189.jpg\timage02166.mat\timage03186.jpg\timage04120.mat\n",
            "image00481.jpg\timage01189.mat\timage02171.jpg\timage03186.mat\timage04124.jpg\n",
            "image00481.mat\timage01190.jpg\timage02171.mat\timage03188.jpg\timage04124.mat\n",
            "image00482.jpg\timage01190.mat\timage02176.jpg\timage03188.mat\timage04126.jpg\n",
            "image00482.mat\timage01191.jpg\timage02176.mat\timage03189.jpg\timage04126.mat\n",
            "image00483.jpg\timage01191.mat\timage02178.jpg\timage03189.mat\timage04128.jpg\n",
            "image00483.mat\timage01196.jpg\timage02178.mat\timage03190.jpg\timage04128.mat\n",
            "image00485.jpg\timage01196.mat\timage02179.jpg\timage03190.mat\timage04129.jpg\n",
            "image00485.mat\timage01198.jpg\timage02179.mat\timage03194.jpg\timage04129.mat\n",
            "image00486.jpg\timage01198.mat\timage02183.jpg\timage03194.mat\timage04130.jpg\n",
            "image00486.mat\timage01200.jpg\timage02183.mat\timage03195.jpg\timage04130.mat\n",
            "image00489.jpg\timage01200.mat\timage02190.jpg\timage03195.mat\timage04144.jpg\n",
            "image00489.mat\timage01201.jpg\timage02190.mat\timage03196.jpg\timage04144.mat\n",
            "image00490.jpg\timage01201.mat\timage02191.jpg\timage03196.mat\timage04145.jpg\n",
            "image00490.mat\timage01202.jpg\timage02191.mat\timage03199.jpg\timage04145.mat\n",
            "image00491.jpg\timage01202.mat\timage02194.jpg\timage03199.mat\timage04147.jpg\n",
            "image00491.mat\timage01205.jpg\timage02194.mat\timage03208.jpg\timage04147.mat\n",
            "image00494.jpg\timage01205.mat\timage02195.jpg\timage03208.mat\timage04151.jpg\n",
            "image00494.mat\timage01207.jpg\timage02195.mat\timage03209.jpg\timage04151.mat\n",
            "image00496.jpg\timage01207.mat\timage02196.jpg\timage03209.mat\timage04153.jpg\n",
            "image00496.mat\timage01210.jpg\timage02196.mat\timage03210.jpg\timage04153.mat\n",
            "image00497.jpg\timage01210.mat\timage02197.jpg\timage03210.mat\timage04157.jpg\n",
            "image00497.mat\timage01212.jpg\timage02197.mat\timage03212.jpg\timage04157.mat\n",
            "image00498.jpg\timage01212.mat\timage02199.jpg\timage03212.mat\timage04161.jpg\n",
            "image00498.mat\timage01215.jpg\timage02199.mat\timage03214.jpg\timage04161.mat\n",
            "image00499.jpg\timage01215.mat\timage02202.jpg\timage03214.mat\timage04163.jpg\n",
            "image00499.mat\timage01217.jpg\timage02202.mat\timage03216.jpg\timage04163.mat\n",
            "image00500.jpg\timage01217.mat\timage02203.jpg\timage03216.mat\timage04168.jpg\n",
            "image00500.mat\timage01218.jpg\timage02203.mat\timage03217.jpg\timage04168.mat\n",
            "image00501.jpg\timage01218.mat\timage02208.jpg\timage03217.mat\timage04171.jpg\n",
            "image00501.mat\timage01220.jpg\timage02208.mat\timage03222.jpg\timage04171.mat\n",
            "image00503.jpg\timage01220.mat\timage02209.jpg\timage03222.mat\timage04172.jpg\n",
            "image00503.mat\timage01224.jpg\timage02209.mat\timage03227.jpg\timage04172.mat\n",
            "image00504.jpg\timage01224.mat\timage02210.jpg\timage03227.mat\timage04179.jpg\n",
            "image00504.mat\timage01226.jpg\timage02210.mat\timage03233.jpg\timage04179.mat\n",
            "image00506.jpg\timage01226.mat\timage02211.jpg\timage03233.mat\timage04180.jpg\n",
            "image00506.mat\timage01230.jpg\timage02211.mat\timage03235.jpg\timage04180.mat\n",
            "image00507.jpg\timage01230.mat\timage02212.jpg\timage03235.mat\timage04182.jpg\n",
            "image00507.mat\timage01232.jpg\timage02212.mat\timage03236.jpg\timage04182.mat\n",
            "image00511.jpg\timage01232.mat\timage02213.jpg\timage03236.mat\timage04184.jpg\n",
            "image00511.mat\timage01233.jpg\timage02213.mat\timage03237.jpg\timage04184.mat\n",
            "image00512.jpg\timage01233.mat\timage02214.jpg\timage03237.mat\timage04185.jpg\n",
            "image00512.mat\timage01238.jpg\timage02214.mat\timage03238.jpg\timage04185.mat\n",
            "image00514.jpg\timage01238.mat\timage02215.jpg\timage03238.mat\timage04186.jpg\n",
            "image00514.mat\timage01240.jpg\timage02215.mat\timage03244.jpg\timage04186.mat\n",
            "image00515.jpg\timage01240.mat\timage02216.jpg\timage03244.mat\timage04188.jpg\n",
            "image00515.mat\timage01243.jpg\timage02216.mat\timage03247.jpg\timage04188.mat\n",
            "image00516.jpg\timage01243.mat\timage02217.jpg\timage03247.mat\timage04190.jpg\n",
            "image00516.mat\timage01246.jpg\timage02217.mat\timage03249.jpg\timage04190.mat\n",
            "image00517.jpg\timage01246.mat\timage02218.jpg\timage03249.mat\timage04191.jpg\n",
            "image00517.mat\timage01247.jpg\timage02218.mat\timage03250.jpg\timage04191.mat\n",
            "image00518.jpg\timage01247.mat\timage02219.jpg\timage03250.mat\timage04196.jpg\n",
            "image00518.mat\timage01249.jpg\timage02219.mat\timage03252.jpg\timage04196.mat\n",
            "image00519.jpg\timage01249.mat\timage02234.jpg\timage03252.mat\timage04201.jpg\n",
            "image00519.mat\timage01251.jpg\timage02234.mat\timage03255.jpg\timage04201.mat\n",
            "image00520.jpg\timage01251.mat\timage02236.jpg\timage03255.mat\timage04206.jpg\n",
            "image00520.mat\timage01253.jpg\timage02236.mat\timage03258.jpg\timage04206.mat\n",
            "image00521.jpg\timage01253.mat\timage02239.jpg\timage03258.mat\timage04207.jpg\n",
            "image00521.mat\timage01258.jpg\timage02239.mat\timage03263.jpg\timage04207.mat\n",
            "image00523.jpg\timage01258.mat\timage02242.jpg\timage03263.mat\timage04210.jpg\n",
            "image00523.mat\timage01260.jpg\timage02242.mat\timage03264.jpg\timage04210.mat\n",
            "image00527.jpg\timage01260.mat\timage02243.jpg\timage03264.mat\timage04213.jpg\n",
            "image00527.mat\timage01262.jpg\timage02243.mat\timage03265.jpg\timage04213.mat\n",
            "image00528.jpg\timage01262.mat\timage02244.jpg\timage03265.mat\timage04215.jpg\n",
            "image00528.mat\timage01264.jpg\timage02244.mat\timage03266.jpg\timage04215.mat\n",
            "image00530.jpg\timage01264.mat\timage02245.jpg\timage03266.mat\timage04216.jpg\n",
            "image00530.mat\timage01266.jpg\timage02245.mat\timage03270.jpg\timage04216.mat\n",
            "image00532.jpg\timage01266.mat\timage02246.jpg\timage03270.mat\timage04217.jpg\n",
            "image00532.mat\timage01268.jpg\timage02246.mat\timage03271.jpg\timage04217.mat\n",
            "image00533.jpg\timage01268.mat\timage02247.jpg\timage03271.mat\timage04221.jpg\n",
            "image00533.mat\timage01272.jpg\timage02247.mat\timage03273.jpg\timage04221.mat\n",
            "image00534.jpg\timage01272.mat\timage02249.jpg\timage03273.mat\timage04224.jpg\n",
            "image00534.mat\timage01276.jpg\timage02249.mat\timage03278.jpg\timage04224.mat\n",
            "image00535.jpg\timage01276.mat\timage02251.jpg\timage03278.mat\timage04225.jpg\n",
            "image00535.mat\timage01280.jpg\timage02251.mat\timage03281.jpg\timage04225.mat\n",
            "image00538.jpg\timage01280.mat\timage02252.jpg\timage03281.mat\timage04226.jpg\n",
            "image00538.mat\timage01282.jpg\timage02252.mat\timage03282.jpg\timage04226.mat\n",
            "image00540.jpg\timage01282.mat\timage02254.jpg\timage03282.mat\timage04229.jpg\n",
            "image00540.mat\timage01283.jpg\timage02254.mat\timage03283.jpg\timage04229.mat\n",
            "image00543.jpg\timage01283.mat\timage02256.jpg\timage03283.mat\timage04230.jpg\n",
            "image00543.mat\timage01286.jpg\timage02256.mat\timage03284.jpg\timage04230.mat\n",
            "image00544.jpg\timage01286.mat\timage02257.jpg\timage03284.mat\timage04232.jpg\n",
            "image00544.mat\timage01288.jpg\timage02257.mat\timage03286.jpg\timage04232.mat\n",
            "image00545.jpg\timage01288.mat\timage02259.jpg\timage03286.mat\timage04234.jpg\n",
            "image00545.mat\timage01290.jpg\timage02259.mat\timage03302.jpg\timage04234.mat\n",
            "image00547.jpg\timage01290.mat\timage02261.jpg\timage03302.mat\timage04236.jpg\n",
            "image00547.mat\timage01292.jpg\timage02261.mat\timage03315.jpg\timage04236.mat\n",
            "image00548.jpg\timage01292.mat\timage02267.jpg\timage03315.mat\timage04238.jpg\n",
            "image00548.mat\timage01294.jpg\timage02267.mat\timage03322.jpg\timage04238.mat\n",
            "image00549.jpg\timage01294.mat\timage02268.jpg\timage03322.mat\timage04240.jpg\n",
            "image00549.mat\timage01296.jpg\timage02268.mat\timage03324.jpg\timage04240.mat\n",
            "image00550.jpg\timage01296.mat\timage02271.jpg\timage03324.mat\timage04241.jpg\n",
            "image00550.mat\timage01298.jpg\timage02271.mat\timage03345.jpg\timage04241.mat\n",
            "image00551.jpg\timage01298.mat\timage02272.jpg\timage03345.mat\timage04242.jpg\n",
            "image00551.mat\timage01299.jpg\timage02272.mat\timage03346.jpg\timage04242.mat\n",
            "image00553.jpg\timage01299.mat\timage02273.jpg\timage03346.mat\timage04243.jpg\n",
            "image00553.mat\timage01300.jpg\timage02273.mat\timage03349.jpg\timage04243.mat\n",
            "image00554.jpg\timage01300.mat\timage02274.jpg\timage03349.mat\timage04244.jpg\n",
            "image00554.mat\timage01302.jpg\timage02274.mat\timage03350.jpg\timage04244.mat\n",
            "image00555.jpg\timage01302.mat\timage02277.jpg\timage03350.mat\timage04248.jpg\n",
            "image00555.mat\timage01306.jpg\timage02277.mat\timage03354.jpg\timage04248.mat\n",
            "image00557.jpg\timage01306.mat\timage02278.jpg\timage03354.mat\timage04250.jpg\n",
            "image00557.mat\timage01308.jpg\timage02278.mat\timage03356.jpg\timage04250.mat\n",
            "image00558.jpg\timage01308.mat\timage02282.jpg\timage03356.mat\timage04251.jpg\n",
            "image00558.mat\timage01309.jpg\timage02282.mat\timage03360.jpg\timage04251.mat\n",
            "image00559.jpg\timage01309.mat\timage02283.jpg\timage03360.mat\timage04252.jpg\n",
            "image00559.mat\timage01310.jpg\timage02283.mat\timage03361.jpg\timage04252.mat\n",
            "image00560.jpg\timage01310.mat\timage02284.jpg\timage03361.mat\timage04257.jpg\n",
            "image00560.mat\timage01312.jpg\timage02284.mat\timage03362.jpg\timage04257.mat\n",
            "image00561.jpg\timage01312.mat\timage02285.jpg\timage03362.mat\timage04259.jpg\n",
            "image00561.mat\timage01314.jpg\timage02285.mat\timage03364.jpg\timage04259.mat\n",
            "image00562.jpg\timage01314.mat\timage02286.jpg\timage03364.mat\timage04262.jpg\n",
            "image00562.mat\timage01315.jpg\timage02286.mat\timage03372.jpg\timage04262.mat\n",
            "image00564.jpg\timage01315.mat\timage02289.jpg\timage03372.mat\timage04267.jpg\n",
            "image00564.mat\timage01317.jpg\timage02289.mat\timage03373.jpg\timage04267.mat\n",
            "image00565.jpg\timage01317.mat\timage02290.jpg\timage03373.mat\timage04269.jpg\n",
            "image00565.mat\timage01319.jpg\timage02290.mat\timage03375.jpg\timage04269.mat\n",
            "image00566.jpg\timage01319.mat\timage02291.jpg\timage03375.mat\timage04271.jpg\n",
            "image00566.mat\timage01322.jpg\timage02291.mat\timage03376.jpg\timage04271.mat\n",
            "image00567.jpg\timage01322.mat\timage02295.jpg\timage03376.mat\timage04272.jpg\n",
            "image00567.mat\timage01323.jpg\timage02295.mat\timage03386.jpg\timage04272.mat\n",
            "image00571.jpg\timage01323.mat\timage02298.jpg\timage03386.mat\timage04273.jpg\n",
            "image00571.mat\timage01324.jpg\timage02298.mat\timage03389.jpg\timage04273.mat\n",
            "image00574.jpg\timage01324.mat\timage02300.jpg\timage03389.mat\timage04274.jpg\n",
            "image00574.mat\timage01328.jpg\timage02300.mat\timage03390.jpg\timage04274.mat\n",
            "image00577.jpg\timage01328.mat\timage02302.jpg\timage03390.mat\timage04275.jpg\n",
            "image00577.mat\timage01329.jpg\timage02302.mat\timage03391.jpg\timage04275.mat\n",
            "image00578.jpg\timage01329.mat\timage02307.jpg\timage03391.mat\timage04276.jpg\n",
            "image00578.mat\timage01331.jpg\timage02307.mat\timage03392.jpg\timage04276.mat\n",
            "image00580.jpg\timage01331.mat\timage02308.jpg\timage03392.mat\timage04277.jpg\n",
            "image00580.mat\timage01333.jpg\timage02308.mat\timage03400.jpg\timage04277.mat\n",
            "image00584.jpg\timage01333.mat\timage02310.jpg\timage03400.mat\timage04278.jpg\n",
            "image00584.mat\timage01334.jpg\timage02310.mat\timage03402.jpg\timage04278.mat\n",
            "image00585.jpg\timage01334.mat\timage02312.jpg\timage03402.mat\timage04279.jpg\n",
            "image00585.mat\timage01338.jpg\timage02312.mat\timage03404.jpg\timage04279.mat\n",
            "image00586.jpg\timage01338.mat\timage02313.jpg\timage03404.mat\timage04283.jpg\n",
            "image00586.mat\timage01340.jpg\timage02313.mat\timage03407.jpg\timage04283.mat\n",
            "image00587.jpg\timage01340.mat\timage02317.jpg\timage03407.mat\timage04285.jpg\n",
            "image00587.mat\timage01342.jpg\timage02317.mat\timage03414.jpg\timage04285.mat\n",
            "image00589.jpg\timage01342.mat\timage02319.jpg\timage03414.mat\timage04286.jpg\n",
            "image00589.mat\timage01346.jpg\timage02319.mat\timage03421.jpg\timage04286.mat\n",
            "image00591.jpg\timage01346.mat\timage02322.jpg\timage03421.mat\timage04289.jpg\n",
            "image00591.mat\timage01350.jpg\timage02322.mat\timage03427.jpg\timage04289.mat\n",
            "image00592.jpg\timage01350.mat\timage02327.jpg\timage03427.mat\timage04292.jpg\n",
            "image00592.mat\timage01352.jpg\timage02327.mat\timage03431.jpg\timage04292.mat\n",
            "image00593.jpg\timage01352.mat\timage02329.jpg\timage03431.mat\timage04294.jpg\n",
            "image00593.mat\timage01360.jpg\timage02329.mat\timage03434.jpg\timage04294.mat\n",
            "image00595.jpg\timage01360.mat\timage02332.jpg\timage03434.mat\timage04295.jpg\n",
            "image00595.mat\timage01362.jpg\timage02332.mat\timage03440.jpg\timage04295.mat\n",
            "image00597.jpg\timage01362.mat\timage02333.jpg\timage03440.mat\timage04296.jpg\n",
            "image00597.mat\timage01366.jpg\timage02333.mat\timage03442.jpg\timage04296.mat\n",
            "image00598.jpg\timage01366.mat\timage02339.jpg\timage03442.mat\timage04297.jpg\n",
            "image00598.mat\timage01368.jpg\timage02339.mat\timage03443.jpg\timage04297.mat\n",
            "image00599.jpg\timage01368.mat\timage02340.jpg\timage03443.mat\timage04298.jpg\n",
            "image00599.mat\timage01373.jpg\timage02340.mat\timage03444.jpg\timage04298.mat\n",
            "image00600.jpg\timage01373.mat\timage02344.jpg\timage03444.mat\timage04299.jpg\n",
            "image00600.mat\timage01375.jpg\timage02344.mat\timage03451.jpg\timage04299.mat\n",
            "image00602.jpg\timage01375.mat\timage02345.jpg\timage03451.mat\timage04301.jpg\n",
            "image00602.mat\timage01376.jpg\timage02345.mat\timage03452.jpg\timage04301.mat\n",
            "image00604.jpg\timage01376.mat\timage02346.jpg\timage03452.mat\timage04304.jpg\n",
            "image00604.mat\timage01377.jpg\timage02346.mat\timage03453.jpg\timage04304.mat\n",
            "image00606.jpg\timage01377.mat\timage02347.jpg\timage03453.mat\timage04307.jpg\n",
            "image00606.mat\timage01380.jpg\timage02347.mat\timage03454.jpg\timage04307.mat\n",
            "image00607.jpg\timage01380.mat\timage02351.jpg\timage03454.mat\timage04308.jpg\n",
            "image00607.mat\timage01387.jpg\timage02351.mat\timage03455.jpg\timage04308.mat\n",
            "image00608.jpg\timage01387.mat\timage02355.jpg\timage03455.mat\timage04310.jpg\n",
            "image00608.mat\timage01391.jpg\timage02355.mat\timage03456.jpg\timage04310.mat\n",
            "image00609.jpg\timage01391.mat\timage02359.jpg\timage03456.mat\timage04311.jpg\n",
            "image00609.mat\timage01395.jpg\timage02359.mat\timage03457.jpg\timage04311.mat\n",
            "image00610.jpg\timage01395.mat\timage02362.jpg\timage03457.mat\timage04312.jpg\n",
            "image00610.mat\timage01396.jpg\timage02362.mat\timage03459.jpg\timage04312.mat\n",
            "image00611.jpg\timage01396.mat\timage02363.jpg\timage03459.mat\timage04313.jpg\n",
            "image00611.mat\timage01397.jpg\timage02363.mat\timage03461.jpg\timage04313.mat\n",
            "image00612.jpg\timage01397.mat\timage02367.jpg\timage03461.mat\timage04314.jpg\n",
            "image00612.mat\timage01400.jpg\timage02367.mat\timage03462.jpg\timage04314.mat\n",
            "image00613.jpg\timage01400.mat\timage02369.jpg\timage03462.mat\timage04316.jpg\n",
            "image00613.mat\timage01401.jpg\timage02369.mat\timage03465.jpg\timage04316.mat\n",
            "image00614.jpg\timage01401.mat\timage02370.jpg\timage03465.mat\timage04324.jpg\n",
            "image00614.mat\timage01402.jpg\timage02370.mat\timage03472.jpg\timage04324.mat\n",
            "image00615.jpg\timage01402.mat\timage02373.jpg\timage03472.mat\timage04325.jpg\n",
            "image00615.mat\timage01404.jpg\timage02373.mat\timage03475.jpg\timage04325.mat\n",
            "image00617.jpg\timage01404.mat\timage02375.jpg\timage03475.mat\timage04328.jpg\n",
            "image00617.mat\timage01406.jpg\timage02375.mat\timage03479.jpg\timage04328.mat\n",
            "image00622.jpg\timage01406.mat\timage02376.jpg\timage03479.mat\timage04329.jpg\n",
            "image00622.mat\timage01407.jpg\timage02376.mat\timage03480.jpg\timage04329.mat\n",
            "image00623.jpg\timage01407.mat\timage02378.jpg\timage03480.mat\timage04331.jpg\n",
            "image00623.mat\timage01410.jpg\timage02378.mat\timage03482.jpg\timage04331.mat\n",
            "image00624.jpg\timage01410.mat\timage02379.jpg\timage03482.mat\timage04332.jpg\n",
            "image00624.mat\timage01414.jpg\timage02379.mat\timage03488.jpg\timage04332.mat\n",
            "image00626.jpg\timage01414.mat\timage02381.jpg\timage03488.mat\timage04333.jpg\n",
            "image00626.mat\timage01416.jpg\timage02381.mat\timage03498.jpg\timage04333.mat\n",
            "image00627.jpg\timage01416.mat\timage02384.jpg\timage03498.mat\timage04334.jpg\n",
            "image00627.mat\timage01417.jpg\timage02384.mat\timage03499.jpg\timage04334.mat\n",
            "image00631.jpg\timage01417.mat\timage02387.jpg\timage03499.mat\timage04337.jpg\n",
            "image00631.mat\timage01419.jpg\timage02387.mat\timage03505.jpg\timage04337.mat\n",
            "image00632.jpg\timage01419.mat\timage02389.jpg\timage03505.mat\timage04342.jpg\n",
            "image00632.mat\timage01421.jpg\timage02389.mat\timage03506.jpg\timage04342.mat\n",
            "image00634.jpg\timage01421.mat\timage02403.jpg\timage03506.mat\timage04344.jpg\n",
            "image00634.mat\timage01427.jpg\timage02403.mat\timage03515.jpg\timage04344.mat\n",
            "image00636.jpg\timage01427.mat\timage02406.jpg\timage03515.mat\timage04345.jpg\n",
            "image00636.mat\timage01431.jpg\timage02406.mat\timage03516.jpg\timage04345.mat\n",
            "image00642.jpg\timage01431.mat\timage02407.jpg\timage03516.mat\timage04348.jpg\n",
            "image00642.mat\timage01433.jpg\timage02407.mat\timage03520.jpg\timage04348.mat\n",
            "image00643.jpg\timage01433.mat\timage02408.jpg\timage03520.mat\timage04355.jpg\n",
            "image00643.mat\timage01437.jpg\timage02408.mat\timage03524.jpg\timage04355.mat\n",
            "image00645.jpg\timage01437.mat\timage02409.jpg\timage03524.mat\timage04356.jpg\n",
            "image00645.mat\timage01438.jpg\timage02409.mat\timage03532.jpg\timage04356.mat\n",
            "image00648.jpg\timage01438.mat\timage02415.jpg\timage03532.mat\timage04358.jpg\n",
            "image00648.mat\timage01442.jpg\timage02415.mat\timage03537.jpg\timage04358.mat\n",
            "image00650.jpg\timage01442.mat\timage02416.jpg\timage03537.mat\timage04363.jpg\n",
            "image00650.mat\timage01449.jpg\timage02416.mat\timage03538.jpg\timage04363.mat\n",
            "image00655.jpg\timage01449.mat\timage02420.jpg\timage03538.mat\timage04364.jpg\n",
            "image00655.mat\timage01453.jpg\timage02420.mat\timage03539.jpg\timage04364.mat\n",
            "image00656.jpg\timage01453.mat\timage02421.jpg\timage03539.mat\timage04365.jpg\n",
            "image00656.mat\timage01459.jpg\timage02421.mat\timage03541.jpg\timage04365.mat\n",
            "image00658.jpg\timage01459.mat\timage02422.jpg\timage03541.mat\timage04375.jpg\n",
            "image00658.mat\timage01460.jpg\timage02422.mat\timage03542.jpg\timage04375.mat\n",
            "image00661.jpg\timage01460.mat\timage02423.jpg\timage03542.mat\n",
            "image00661.mat\timage01461.jpg\timage02423.mat\timage03543.jpg\n",
            "image00663.jpg\timage01461.mat\timage02424.jpg\timage03543.mat\n",
            "image00663.mat\timage01466.jpg\timage02424.mat\timage03545.jpg\n"
          ],
          "name": "stdout"
        }
      ]
    },
    {
      "cell_type": "code",
      "metadata": {
        "id": "gQ8zUdPkM_uc",
        "colab_type": "code",
        "colab": {
          "base_uri": "https://localhost:8080/",
          "height": 238
        },
        "outputId": "7bdf9d4e-8a5e-465e-d3c3-595ffabccb3e"
      },
      "source": [
        "  # Clone the entire repo.\n",
        "!git clone -l -s https://github.com/emredog/deep-head-pose.git deep-head-pose\n",
        "%cd deep-head-pose/code\n",
        "!ls"
      ],
      "execution_count": 7,
      "outputs": [
        {
          "output_type": "stream",
          "text": [
            "Cloning into 'deep-head-pose'...\n",
            "warning: --local is ignored\n",
            "remote: Enumerating objects: 7, done.\u001b[K\n",
            "remote: Counting objects: 100% (7/7), done.\u001b[K\n",
            "remote: Compressing objects: 100% (7/7), done.\u001b[K\n",
            "remote: Total 11076 (delta 1), reused 2 (delta 0), pack-reused 11069\u001b[K\n",
            "Receiving objects: 100% (11076/11076), 216.05 MiB | 31.54 MiB/s, done.\n",
            "Resolving deltas: 100% (488/488), done.\n",
            "/content/deep-head-pose/code/deep-head-pose/code\n",
            "datasets.py\t test_on_video_dlib.py\t      train_alexnet.py\n",
            "hopenet.py\t test_on_video_dockerface.py  train_hopenet.py\n",
            "test_alexnet.py  test_on_video.py\t      train_resnet50_regression.py\n",
            "test_hopenet.py  test_resnet50_regression.py  utils.py\n"
          ],
          "name": "stdout"
        }
      ]
    },
    {
      "cell_type": "code",
      "metadata": {
        "id": "dFrtaMc5N4nV",
        "colab_type": "code",
        "colab": {}
      },
      "source": [
        "from datasets import Pose_300W_LP"
      ],
      "execution_count": 0,
      "outputs": []
    },
    {
      "cell_type": "code",
      "metadata": {
        "id": "LhZha0wjN60F",
        "colab_type": "code",
        "colab": {
          "base_uri": "https://localhost:8080/",
          "height": 204
        },
        "outputId": "6fbda3bc-75a1-413e-c81c-f281a0421fc4"
      },
      "source": [
        "!wget https://drive.google.com/file/d/0B7OEHD3T4eCkVGs0TkhUWFN6N1k/view?usp=sharing"
      ],
      "execution_count": 9,
      "outputs": [
        {
          "output_type": "stream",
          "text": [
            "--2019-08-12 09:57:39--  https://drive.google.com/file/d/0B7OEHD3T4eCkVGs0TkhUWFN6N1k/view?usp=sharing\n",
            "Resolving drive.google.com (drive.google.com)... 74.125.206.138, 74.125.206.102, 74.125.206.113, ...\n",
            "Connecting to drive.google.com (drive.google.com)|74.125.206.138|:443... connected.\n",
            "HTTP request sent, awaiting response... 200 OK\n",
            "Length: unspecified [text/html]\n",
            "Saving to: ‘view?usp=sharing’\n",
            "\n",
            "\rview?usp=sharing        [<=>                 ]       0  --.-KB/s               \rview?usp=sharing        [ <=>                ] 119.69K  --.-KB/s    in 0.1s    \n",
            "\n",
            "2019-08-12 09:57:39 (1.06 MB/s) - ‘view?usp=sharing’ saved [122562]\n",
            "\n"
          ],
          "name": "stdout"
        }
      ]
    },
    {
      "cell_type": "code",
      "metadata": {
        "id": "00_nwO01Q2AK",
        "colab_type": "code",
        "colab": {
          "base_uri": "https://localhost:8080/",
          "height": 102
        },
        "outputId": "f4035d66-f176-42ef-d459-b7189a04eb6a"
      },
      "source": [
        "!ls"
      ],
      "execution_count": 10,
      "outputs": [
        {
          "output_type": "stream",
          "text": [
            " datasets.py\t   test_on_video_dlib.py\t train_hopenet.py\n",
            " hopenet.py\t   test_on_video_dockerface.py\t train_resnet50_regression.py\n",
            " __pycache__\t   test_on_video.py\t\t utils.py\n",
            " test_alexnet.py   test_resnet50_regression.py\t'view?usp=sharing'\n",
            " test_hopenet.py   train_alexnet.py\n"
          ],
          "name": "stdout"
        }
      ]
    },
    {
      "cell_type": "code",
      "metadata": {
        "id": "rqpv7Td4Q52r",
        "colab_type": "code",
        "colab": {
          "base_uri": "https://localhost:8080/",
          "height": 204
        },
        "outputId": "166212ab-5885-41fa-81f6-f52b0c802877"
      },
      "source": [
        "!wget http://www.cbsr.ia.ac.cn/users/xiangyuzhu/projects/3DDFA/Database/AFLW2000-3D.zip"
      ],
      "execution_count": 11,
      "outputs": [
        {
          "output_type": "stream",
          "text": [
            "--2019-08-12 09:59:39--  http://www.cbsr.ia.ac.cn/users/xiangyuzhu/projects/3DDFA/Database/AFLW2000-3D.zip\n",
            "Resolving www.cbsr.ia.ac.cn (www.cbsr.ia.ac.cn)... 159.226.21.60\n",
            "Connecting to www.cbsr.ia.ac.cn (www.cbsr.ia.ac.cn)|159.226.21.60|:80... connected.\n",
            "HTTP request sent, awaiting response... 200 OK\n",
            "Length: 87413900 (83M) [application/x-zip-compressed]\n",
            "Saving to: ‘AFLW2000-3D.zip’\n",
            "\n",
            "AFLW2000-3D.zip     100%[===================>]  83.36M   208KB/s    in 7m 10s  \n",
            "\n",
            "2019-08-12 10:06:51 (198 KB/s) - ‘AFLW2000-3D.zip’ saved [87413900/87413900]\n",
            "\n"
          ],
          "name": "stdout"
        }
      ]
    },
    {
      "cell_type": "code",
      "metadata": {
        "id": "Wiulpay5RyuJ",
        "colab_type": "code",
        "colab": {
          "base_uri": "https://localhost:8080/",
          "height": 139
        },
        "outputId": "e84542da-006e-4d79-c188-7316ac7bec24"
      },
      "source": [
        ""
      ],
      "execution_count": 12,
      "outputs": [
        {
          "output_type": "stream",
          "text": [
            "Go to this URL in a browser: https://accounts.google.com/o/oauth2/auth?client_id=947318989803-6bn6qk8qdgf4n4g3pfee6491hc0brc4i.apps.googleusercontent.com&redirect_uri=urn%3Aietf%3Awg%3Aoauth%3A2.0%3Aoob&scope=email%20https%3A%2F%2Fwww.googleapis.com%2Fauth%2Fdocs.test%20https%3A%2F%2Fwww.googleapis.com%2Fauth%2Fdrive%20https%3A%2F%2Fwww.googleapis.com%2Fauth%2Fdrive.photos.readonly%20https%3A%2F%2Fwww.googleapis.com%2Fauth%2Fpeopleapi.readonly&response_type=code\n",
            "\n",
            "Enter your authorization code:\n",
            "··········\n",
            "Mounted at /gdrive\n",
            "/gdrive\n"
          ],
          "name": "stdout"
        }
      ]
    },
    {
      "cell_type": "code",
      "metadata": {
        "id": "mDFK64nIS-GP",
        "colab_type": "code",
        "colab": {
          "base_uri": "https://localhost:8080/",
          "height": 34
        },
        "outputId": "3f6664bf-dcf8-4cfa-be3c-dfb373d787e4"
      },
      "source": [
        "!ls"
      ],
      "execution_count": 13,
      "outputs": [
        {
          "output_type": "stream",
          "text": [
            "'My Drive'\n"
          ],
          "name": "stdout"
        }
      ]
    },
    {
      "cell_type": "code",
      "metadata": {
        "id": "nujDfRqwTHH9",
        "colab_type": "code",
        "colab": {
          "base_uri": "https://localhost:8080/",
          "height": 34
        },
        "outputId": "8ff53fb9-9302-4975-b74c-c21bcaf7f0f3"
      },
      "source": [
        "cd .."
      ],
      "execution_count": 14,
      "outputs": [
        {
          "output_type": "stream",
          "text": [
            "/\n"
          ],
          "name": "stdout"
        }
      ]
    },
    {
      "cell_type": "code",
      "metadata": {
        "id": "YD7shH39TKWs",
        "colab_type": "code",
        "colab": {
          "base_uri": "https://localhost:8080/",
          "height": 85
        },
        "outputId": "afc9fbc1-5f65-4ae9-f476-00a96cbd1923"
      },
      "source": [
        "ls\n"
      ],
      "execution_count": 15,
      "outputs": [
        {
          "output_type": "stream",
          "text": [
            "\u001b[0m\u001b[01;34mbin\u001b[0m/      \u001b[01;34mdev\u001b[0m/     \u001b[01;34mlib\u001b[0m/    \u001b[01;34mmnt\u001b[0m/   \u001b[01;34mrun\u001b[0m/    \u001b[01;34msys\u001b[0m/                 \u001b[01;34musr\u001b[0m/\n",
            "\u001b[01;34mboot\u001b[0m/     \u001b[01;34metc\u001b[0m/     \u001b[01;34mlib32\u001b[0m/  \u001b[01;34mopt\u001b[0m/   \u001b[01;34msbin\u001b[0m/   \u001b[01;34mtensorflow-2.0.0b1\u001b[0m/  \u001b[01;34mvar\u001b[0m/\n",
            "\u001b[01;34mcontent\u001b[0m/  \u001b[01;34mgdrive\u001b[0m/  \u001b[01;34mlib64\u001b[0m/  \u001b[01;34mproc\u001b[0m/  \u001b[01;34msrv\u001b[0m/    \u001b[30;42mtmp\u001b[0m/\n",
            "\u001b[01;34mdatalab\u001b[0m/  \u001b[01;34mhome\u001b[0m/    \u001b[01;34mmedia\u001b[0m/  \u001b[01;34mroot\u001b[0m/  \u001b[01;34mswift\u001b[0m/  \u001b[01;34mtools\u001b[0m/\n"
          ],
          "name": "stdout"
        }
      ]
    },
    {
      "cell_type": "code",
      "metadata": {
        "id": "MEqRFkiuTLI0",
        "colab_type": "code",
        "colab": {
          "base_uri": "https://localhost:8080/",
          "height": 68
        },
        "outputId": "c9792587-6e24-4d7c-d35a-624f6990ee96"
      },
      "source": [
        "!ls"
      ],
      "execution_count": 16,
      "outputs": [
        {
          "output_type": "stream",
          "text": [
            "bin\t datalab  gdrive  lib32  mnt   root  srv    tensorflow-2.0.0b1\tusr\n",
            "boot\t dev\t  home\t  lib64  opt   run   swift  tmp\t\t\tvar\n",
            "content  etc\t  lib\t  media  proc  sbin  sys    tools\n"
          ],
          "name": "stdout"
        }
      ]
    },
    {
      "cell_type": "code",
      "metadata": {
        "id": "lmGE3f6_TONd",
        "colab_type": "code",
        "colab": {}
      },
      "source": [
        "!cd /"
      ],
      "execution_count": 0,
      "outputs": []
    },
    {
      "cell_type": "code",
      "metadata": {
        "id": "ss90vkvrTVG8",
        "colab_type": "code",
        "colab": {
          "base_uri": "https://localhost:8080/",
          "height": 34
        },
        "outputId": "02920128-70e2-4b18-f094-55f054651815"
      },
      "source": [
        "cd .."
      ],
      "execution_count": 31,
      "outputs": [
        {
          "output_type": "stream",
          "text": [
            "/\n"
          ],
          "name": "stdout"
        }
      ]
    },
    {
      "cell_type": "code",
      "metadata": {
        "id": "p2_c9TozTV1s",
        "colab_type": "code",
        "colab": {
          "base_uri": "https://localhost:8080/",
          "height": 34
        },
        "outputId": "1f42767a-171d-4f17-c3ff-78d11693b164"
      },
      "source": [
        "cd home"
      ],
      "execution_count": 32,
      "outputs": [
        {
          "output_type": "stream",
          "text": [
            "/home\n"
          ],
          "name": "stdout"
        }
      ]
    },
    {
      "cell_type": "code",
      "metadata": {
        "id": "Af6B2FnWUCQi",
        "colab_type": "code",
        "colab": {
          "base_uri": "https://localhost:8080/",
          "height": 34
        },
        "outputId": "bc89f9a6-67a5-4d0d-ec1c-867dd24f16f0"
      },
      "source": [
        "cd content"
      ],
      "execution_count": 39,
      "outputs": [
        {
          "output_type": "stream",
          "text": [
            "/content\n"
          ],
          "name": "stdout"
        }
      ]
    },
    {
      "cell_type": "code",
      "metadata": {
        "id": "X3LZb5I5UC5S",
        "colab_type": "code",
        "colab": {
          "base_uri": "https://localhost:8080/",
          "height": 34
        },
        "outputId": "4b580a81-92f6-41c9-c5bd-c6820017f202"
      },
      "source": [
        "ls"
      ],
      "execution_count": 40,
      "outputs": [
        {
          "output_type": "stream",
          "text": [
            "\u001b[0m\u001b[01;34mdeep-head-pose\u001b[0m/  \u001b[01;34msample_data\u001b[0m/\n"
          ],
          "name": "stdout"
        }
      ]
    },
    {
      "cell_type": "code",
      "metadata": {
        "id": "BtPF88MBUOqp",
        "colab_type": "code",
        "colab": {
          "base_uri": "https://localhost:8080/",
          "height": 34
        },
        "outputId": "9830fa8f-f91f-45b9-8eed-253ef7e575eb"
      },
      "source": [
        "cd deep-head-pose/"
      ],
      "execution_count": 41,
      "outputs": [
        {
          "output_type": "stream",
          "text": [
            "/content/deep-head-pose\n"
          ],
          "name": "stdout"
        }
      ]
    },
    {
      "cell_type": "code",
      "metadata": {
        "id": "GfaHWM58URsJ",
        "colab_type": "code",
        "colab": {
          "base_uri": "https://localhost:8080/",
          "height": 34
        },
        "outputId": "273d5731-aea5-492f-b8f2-6f50824ce144"
      },
      "source": [
        "ls"
      ],
      "execution_count": 42,
      "outputs": [
        {
          "output_type": "stream",
          "text": [
            "\u001b[0m\u001b[01;34mcode\u001b[0m/  Collab_test.ipynb  conan-cruise.gif  LICENSE.md  README.md\n"
          ],
          "name": "stdout"
        }
      ]
    },
    {
      "cell_type": "code",
      "metadata": {
        "id": "GDj_xrV9UXDJ",
        "colab_type": "code",
        "colab": {
          "base_uri": "https://localhost:8080/",
          "height": 34
        },
        "outputId": "868dab62-6c4f-4403-c433-973220a2ac60"
      },
      "source": [
        "cd code"
      ],
      "execution_count": 43,
      "outputs": [
        {
          "output_type": "stream",
          "text": [
            "/content/deep-head-pose/code\n"
          ],
          "name": "stdout"
        }
      ]
    },
    {
      "cell_type": "code",
      "metadata": {
        "id": "NBNcl502UYjh",
        "colab_type": "code",
        "colab": {
          "base_uri": "https://localhost:8080/",
          "height": 102
        },
        "outputId": "7e35a5b5-115a-4b2f-be07-1d3629c0f268"
      },
      "source": [
        "ls"
      ],
      "execution_count": 44,
      "outputs": [
        {
          "output_type": "stream",
          "text": [
            "datasets.py      test_hopenet.py              train_alexnet.py\n",
            "\u001b[0m\u001b[01;34mdeep-head-pose\u001b[0m/  test_on_video_dlib.py        train_hopenet.py\n",
            "hopenet.py       test_on_video_dockerface.py  train_resnet50_regression.py\n",
            "\u001b[01;34m__pycache__\u001b[0m/     test_on_video.py             utils.py\n",
            "test_alexnet.py  test_resnet50_regression.py\n"
          ],
          "name": "stdout"
        }
      ]
    },
    {
      "cell_type": "code",
      "metadata": {
        "id": "JjY2w-0tUZQJ",
        "colab_type": "code",
        "colab": {
          "base_uri": "https://localhost:8080/",
          "height": 34
        },
        "outputId": "a4171c3d-3f81-467a-a26e-b7f0f74c9ff1"
      },
      "source": [
        "!find \"AFLW2000-3D.zip\""
      ],
      "execution_count": 48,
      "outputs": [
        {
          "output_type": "stream",
          "text": [
            "find: ‘AFLW2000-3D.zip’: No such file or directory\n"
          ],
          "name": "stdout"
        }
      ]
    },
    {
      "cell_type": "code",
      "metadata": {
        "id": "QqatnWdfUj05",
        "colab_type": "code",
        "colab": {
          "base_uri": "https://localhost:8080/",
          "height": 102
        },
        "outputId": "cd4ca378-afc8-4dc6-ce5c-0cacd2b3ac0a"
      },
      "source": [
        "ls"
      ],
      "execution_count": 49,
      "outputs": [
        {
          "output_type": "stream",
          "text": [
            "datasets.py      test_hopenet.py              train_alexnet.py\n",
            "\u001b[0m\u001b[01;34mdeep-head-pose\u001b[0m/  test_on_video_dlib.py        train_hopenet.py\n",
            "hopenet.py       test_on_video_dockerface.py  train_resnet50_regression.py\n",
            "\u001b[01;34m__pycache__\u001b[0m/     test_on_video.py             utils.py\n",
            "test_alexnet.py  test_resnet50_regression.py\n"
          ],
          "name": "stdout"
        }
      ]
    },
    {
      "cell_type": "code",
      "metadata": {
        "id": "v97QHd2lUskI",
        "colab_type": "code",
        "colab": {
          "base_uri": "https://localhost:8080/",
          "height": 34
        },
        "outputId": "6ab65406-c987-4ef8-b2fc-2961c81c1fec"
      },
      "source": [
        "cd deep-head-pose"
      ],
      "execution_count": 50,
      "outputs": [
        {
          "output_type": "stream",
          "text": [
            "/content/deep-head-pose/code/deep-head-pose\n"
          ],
          "name": "stdout"
        }
      ]
    },
    {
      "cell_type": "code",
      "metadata": {
        "id": "-l2fBWwkUu6o",
        "colab_type": "code",
        "colab": {
          "base_uri": "https://localhost:8080/",
          "height": 34
        },
        "outputId": "85b889f1-165b-4ee5-d4d9-fe954bbd68cb"
      },
      "source": [
        "ls"
      ],
      "execution_count": 51,
      "outputs": [
        {
          "output_type": "stream",
          "text": [
            "\u001b[0m\u001b[01;34mcode\u001b[0m/  Collab_test.ipynb  conan-cruise.gif  LICENSE.md  README.md\n"
          ],
          "name": "stdout"
        }
      ]
    },
    {
      "cell_type": "code",
      "metadata": {
        "id": "1HcgOC6EUvtY",
        "colab_type": "code",
        "colab": {
          "base_uri": "https://localhost:8080/",
          "height": 34
        },
        "outputId": "9c0c2f22-982a-48ba-bef4-61cc764eb056"
      },
      "source": [
        "cd code"
      ],
      "execution_count": 52,
      "outputs": [
        {
          "output_type": "stream",
          "text": [
            "/content/deep-head-pose/code/deep-head-pose/code\n"
          ],
          "name": "stdout"
        }
      ]
    },
    {
      "cell_type": "code",
      "metadata": {
        "id": "BSohR0MYUxAA",
        "colab_type": "code",
        "colab": {
          "base_uri": "https://localhost:8080/",
          "height": 102
        },
        "outputId": "e7f57c91-1778-4e48-cc8e-2a2d83ffc797"
      },
      "source": [
        "ls"
      ],
      "execution_count": 53,
      "outputs": [
        {
          "output_type": "stream",
          "text": [
            " AFLW2000-3D.zip   test_hopenet.py               train_alexnet.py\n",
            " datasets.py       test_on_video_dlib.py         train_hopenet.py\n",
            " hopenet.py        test_on_video_dockerface.py   train_resnet50_regression.py\n",
            " \u001b[0m\u001b[01;34m__pycache__\u001b[0m/      test_on_video.py              utils.py\n",
            " test_alexnet.py   test_resnet50_regression.py  'view?usp=sharing'\n"
          ],
          "name": "stdout"
        }
      ]
    },
    {
      "cell_type": "code",
      "metadata": {
        "id": "g4tD3zERUxpg",
        "colab_type": "code",
        "colab": {}
      },
      "source": [
        "cp AFLW2000-3D.zip /gdrive/My\\ Drive/colab_workspace/advertima/data"
      ],
      "execution_count": 0,
      "outputs": []
    },
    {
      "cell_type": "code",
      "metadata": {
        "id": "hKGEywYhVAMo",
        "colab_type": "code",
        "colab": {}
      },
      "source": [
        ""
      ],
      "execution_count": 0,
      "outputs": []
    }
  ]
}